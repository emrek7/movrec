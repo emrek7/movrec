{
 "cells": [
  {
   "cell_type": "code",
   "execution_count": 1,
   "metadata": {},
   "outputs": [],
   "source": [
    "import numpy as np \n",
    "import pandas as pd\n",
    "import os\n",
    "import gc\n",
    "import time\n",
    "from pandarallel import pandarallel\n",
    "\n",
    "pandarallel.initialize(progress_bar=True, nb_workers=16)\n",
    "\n",
    "pd.set_option(\"max_colwidth\", 40)"
   ]
  },
  {
   "cell_type": "code",
   "execution_count": 2,
   "metadata": {},
   "outputs": [],
   "source": [
    "data_path = \"../data/imdb-dataset/\""
   ]
  },
  {
   "cell_type": "code",
   "execution_count": 3,
   "metadata": {},
   "outputs": [
    {
     "data": {
      "text/plain": [
       "['name.basics.tsv',\n",
       " 'title.akas.tsv',\n",
       " 'title.basics.tsv',\n",
       " 'title.principals.tsv',\n",
       " 'title.ratings.tsv']"
      ]
     },
     "execution_count": 3,
     "metadata": {},
     "output_type": "execute_result"
    }
   ],
   "source": [
    "os.listdir(data_path)"
   ]
  },
  {
   "cell_type": "code",
   "execution_count": 4,
   "metadata": {},
   "outputs": [],
   "source": [
    "name_basics = pd.read_table(data_path+\"name.basics.tsv\")"
   ]
  },
  {
   "cell_type": "code",
   "execution_count": 5,
   "metadata": {},
   "outputs": [],
   "source": [
    "title_akas = pd.read_table(data_path+\"title.akas.tsv\", low_memory=False)"
   ]
  },
  {
   "cell_type": "code",
   "execution_count": 6,
   "metadata": {},
   "outputs": [],
   "source": [
    "title_basics = pd.read_table(data_path+\"title.basics.tsv\", low_memory=False)"
   ]
  },
  {
   "cell_type": "code",
   "execution_count": 7,
   "metadata": {},
   "outputs": [],
   "source": [
    "title_principals = pd.read_table(data_path+\"title.principals.tsv\")"
   ]
  },
  {
   "cell_type": "code",
   "execution_count": 8,
   "metadata": {},
   "outputs": [],
   "source": [
    "title_ratings = pd.read_table(data_path+\"title.ratings.tsv\")"
   ]
  },
  {
   "cell_type": "code",
   "execution_count": 9,
   "metadata": {},
   "outputs": [],
   "source": [
    "# convert unknown startYear data to 0 \n",
    "title_basics.loc[title_basics['startYear']=='\\\\N','startYear'] = 0\n",
    "# convert to numeric\n",
    "title_basics.startYear = title_basics.startYear.astype(np.int64)"
   ]
  },
  {
   "cell_type": "code",
   "execution_count": 10,
   "metadata": {},
   "outputs": [],
   "source": [
    "df = pd.read_csv(\"../data/movie_data.tsv\", index_col=0)"
   ]
  },
  {
   "cell_type": "code",
   "execution_count": 11,
   "metadata": {},
   "outputs": [],
   "source": [
    "tmdb = pd.read_csv(\"../data/tmdb-dataset/movie_tmdb.csv\", encoding='utf8', engine='python')"
   ]
  },
  {
   "cell_type": "code",
   "execution_count": 12,
   "metadata": {},
   "outputs": [
    {
     "data": {
      "text/html": [
       "<div>\n",
       "<style scoped>\n",
       "    .dataframe tbody tr th:only-of-type {\n",
       "        vertical-align: middle;\n",
       "    }\n",
       "\n",
       "    .dataframe tbody tr th {\n",
       "        vertical-align: top;\n",
       "    }\n",
       "\n",
       "    .dataframe thead th {\n",
       "        text-align: right;\n",
       "    }\n",
       "</style>\n",
       "<table border=\"1\" class=\"dataframe\">\n",
       "  <thead>\n",
       "    <tr style=\"text-align: right;\">\n",
       "      <th></th>\n",
       "      <th>user_name</th>\n",
       "      <th>movie_name</th>\n",
       "      <th>release_year</th>\n",
       "      <th>user_review</th>\n",
       "      <th>user_rating</th>\n",
       "      <th>review_date</th>\n",
       "      <th>rewatched</th>\n",
       "      <th>review_likes</th>\n",
       "    </tr>\n",
       "  </thead>\n",
       "  <tbody>\n",
       "    <tr>\n",
       "      <td>293465</td>\n",
       "      <td>/silentjoe13/</td>\n",
       "      <td>Abduction</td>\n",
       "      <td>2011</td>\n",
       "      <td>I had a feeling this film was going ...</td>\n",
       "      <td>1</td>\n",
       "      <td>29 Sep, 2011</td>\n",
       "      <td>0</td>\n",
       "      <td>1</td>\n",
       "    </tr>\n",
       "    <tr>\n",
       "      <td>293466</td>\n",
       "      <td>/silentjoe13/</td>\n",
       "      <td>GoodFellas</td>\n",
       "      <td>1990</td>\n",
       "      <td>Best gangster film ever. Even surpas...</td>\n",
       "      <td>10</td>\n",
       "      <td>01 Mar, 2012</td>\n",
       "      <td>0</td>\n",
       "      <td>4</td>\n",
       "    </tr>\n",
       "    <tr>\n",
       "      <td>293467</td>\n",
       "      <td>/silentjoe13/</td>\n",
       "      <td>Drive</td>\n",
       "      <td>2011</td>\n",
       "      <td>Probably the best surprise from 2011...</td>\n",
       "      <td>10</td>\n",
       "      <td>25 Sep, 2011</td>\n",
       "      <td>0</td>\n",
       "      <td>6</td>\n",
       "    </tr>\n",
       "    <tr>\n",
       "      <td>293468</td>\n",
       "      <td>/silentjoe13/</td>\n",
       "      <td>Cinema Paradiso</td>\n",
       "      <td>1988</td>\n",
       "      <td>Not only is this one of the greatest...</td>\n",
       "      <td>10</td>\n",
       "      <td>01 Mar, 2012</td>\n",
       "      <td>0</td>\n",
       "      <td>6</td>\n",
       "    </tr>\n",
       "    <tr>\n",
       "      <td>293469</td>\n",
       "      <td>/silentjoe13/</td>\n",
       "      <td>Manhattan</td>\n",
       "      <td>1979</td>\n",
       "      <td>Witty, whimsical, poignant, and inte...</td>\n",
       "      <td>10</td>\n",
       "      <td>29 Feb, 2012</td>\n",
       "      <td>0</td>\n",
       "      <td>5</td>\n",
       "    </tr>\n",
       "  </tbody>\n",
       "</table>\n",
       "</div>"
      ],
      "text/plain": [
       "            user_name       movie_name  release_year  \\\n",
       "293465  /silentjoe13/        Abduction          2011   \n",
       "293466  /silentjoe13/       GoodFellas          1990   \n",
       "293467  /silentjoe13/            Drive          2011   \n",
       "293468  /silentjoe13/  Cinema Paradiso          1988   \n",
       "293469  /silentjoe13/        Manhattan          1979   \n",
       "\n",
       "                                    user_review  user_rating   review_date  \\\n",
       "293465  I had a feeling this film was going ...            1  29 Sep, 2011   \n",
       "293466  Best gangster film ever. Even surpas...           10  01 Mar, 2012   \n",
       "293467  Probably the best surprise from 2011...           10  25 Sep, 2011   \n",
       "293468  Not only is this one of the greatest...           10  01 Mar, 2012   \n",
       "293469  Witty, whimsical, poignant, and inte...           10  29 Feb, 2012   \n",
       "\n",
       "        rewatched  review_likes  \n",
       "293465          0             1  \n",
       "293466          0             4  \n",
       "293467          0             6  \n",
       "293468          0             6  \n",
       "293469          0             5  "
      ]
     },
     "execution_count": 12,
     "metadata": {},
     "output_type": "execute_result"
    }
   ],
   "source": [
    "df.tail()"
   ]
  },
  {
   "cell_type": "code",
   "execution_count": 13,
   "metadata": {},
   "outputs": [],
   "source": [
    "tmdb.loc[~(tmdb.release_date.isnull()),'year'] = tmdb.release_date.apply(lambda x: str(x)[:4])"
   ]
  },
  {
   "cell_type": "code",
   "execution_count": 14,
   "metadata": {},
   "outputs": [],
   "source": [
    "pd.options.display.max_columns = 50"
   ]
  },
  {
   "cell_type": "code",
   "execution_count": 15,
   "metadata": {},
   "outputs": [],
   "source": [
    "tmdb['year'] = tmdb.year.fillna(0).astype(np.int64)"
   ]
  },
  {
   "cell_type": "code",
   "execution_count": 16,
   "metadata": {},
   "outputs": [
    {
     "data": {
      "text/plain": [
       "adult                    False\n",
       "backdrop_path             True\n",
       "belongs_to_collection     True\n",
       "budget                    True\n",
       "genres                    True\n",
       "homepage                  True\n",
       "id                        True\n",
       "imdb_id                   True\n",
       "original_language         True\n",
       "original_title            True\n",
       "overview                  True\n",
       "popularity                True\n",
       "poster_path               True\n",
       "production_companies      True\n",
       "production_countries      True\n",
       "release_date              True\n",
       "revenue                   True\n",
       "runtime                   True\n",
       "spoken_languages          True\n",
       "status                    True\n",
       "tagline                   True\n",
       "title                     True\n",
       "video                     True\n",
       "vote_average              True\n",
       "vote_count                True\n",
       "year                     False\n",
       "dtype: bool"
      ]
     },
     "execution_count": 16,
     "metadata": {},
     "output_type": "execute_result"
    }
   ],
   "source": [
    "tmdb.isnull().any(axis=0)"
   ]
  },
  {
   "cell_type": "code",
   "execution_count": 17,
   "metadata": {},
   "outputs": [
    {
     "data": {
      "text/html": [
       "<div>\n",
       "<style scoped>\n",
       "    .dataframe tbody tr th:only-of-type {\n",
       "        vertical-align: middle;\n",
       "    }\n",
       "\n",
       "    .dataframe tbody tr th {\n",
       "        vertical-align: top;\n",
       "    }\n",
       "\n",
       "    .dataframe thead th {\n",
       "        text-align: right;\n",
       "    }\n",
       "</style>\n",
       "<table border=\"1\" class=\"dataframe\">\n",
       "  <thead>\n",
       "    <tr style=\"text-align: right;\">\n",
       "      <th></th>\n",
       "      <th>nconst</th>\n",
       "      <th>primaryName</th>\n",
       "      <th>birthYear</th>\n",
       "      <th>deathYear</th>\n",
       "      <th>primaryProfession</th>\n",
       "      <th>knownForTitles</th>\n",
       "    </tr>\n",
       "  </thead>\n",
       "  <tbody>\n",
       "    <tr>\n",
       "      <td>0</td>\n",
       "      <td>nm0000001</td>\n",
       "      <td>Fred Astaire</td>\n",
       "      <td>1899</td>\n",
       "      <td>1987</td>\n",
       "      <td>soundtrack,actor,miscellaneous</td>\n",
       "      <td>tt0050419,tt0053137,tt0072308,tt0043044</td>\n",
       "    </tr>\n",
       "  </tbody>\n",
       "</table>\n",
       "</div>"
      ],
      "text/plain": [
       "      nconst   primaryName birthYear deathYear  \\\n",
       "0  nm0000001  Fred Astaire      1899      1987   \n",
       "\n",
       "                primaryProfession                           knownForTitles  \n",
       "0  soundtrack,actor,miscellaneous  tt0050419,tt0053137,tt0072308,tt0043044  "
      ]
     },
     "execution_count": 17,
     "metadata": {},
     "output_type": "execute_result"
    }
   ],
   "source": [
    "name_basics.head(1)"
   ]
  },
  {
   "cell_type": "code",
   "execution_count": 18,
   "metadata": {},
   "outputs": [
    {
     "data": {
      "text/html": [
       "<div>\n",
       "<style scoped>\n",
       "    .dataframe tbody tr th:only-of-type {\n",
       "        vertical-align: middle;\n",
       "    }\n",
       "\n",
       "    .dataframe tbody tr th {\n",
       "        vertical-align: top;\n",
       "    }\n",
       "\n",
       "    .dataframe thead th {\n",
       "        text-align: right;\n",
       "    }\n",
       "</style>\n",
       "<table border=\"1\" class=\"dataframe\">\n",
       "  <thead>\n",
       "    <tr style=\"text-align: right;\">\n",
       "      <th></th>\n",
       "      <th>titleId</th>\n",
       "      <th>ordering</th>\n",
       "      <th>title</th>\n",
       "      <th>region</th>\n",
       "      <th>language</th>\n",
       "      <th>types</th>\n",
       "      <th>attributes</th>\n",
       "      <th>isOriginalTitle</th>\n",
       "    </tr>\n",
       "  </thead>\n",
       "  <tbody>\n",
       "    <tr>\n",
       "      <td>0</td>\n",
       "      <td>tt0000001</td>\n",
       "      <td>1</td>\n",
       "      <td>Carmencita - spanyol tánc</td>\n",
       "      <td>HU</td>\n",
       "      <td>\\N</td>\n",
       "      <td>imdbDisplay</td>\n",
       "      <td>\\N</td>\n",
       "      <td>0</td>\n",
       "    </tr>\n",
       "  </tbody>\n",
       "</table>\n",
       "</div>"
      ],
      "text/plain": [
       "     titleId  ordering                      title region language  \\\n",
       "0  tt0000001         1  Carmencita - spanyol tánc     HU       \\N   \n",
       "\n",
       "         types attributes isOriginalTitle  \n",
       "0  imdbDisplay         \\N               0  "
      ]
     },
     "execution_count": 18,
     "metadata": {},
     "output_type": "execute_result"
    }
   ],
   "source": [
    "title_akas.head(1)"
   ]
  },
  {
   "cell_type": "code",
   "execution_count": 19,
   "metadata": {},
   "outputs": [
    {
     "data": {
      "text/html": [
       "<div>\n",
       "<style scoped>\n",
       "    .dataframe tbody tr th:only-of-type {\n",
       "        vertical-align: middle;\n",
       "    }\n",
       "\n",
       "    .dataframe tbody tr th {\n",
       "        vertical-align: top;\n",
       "    }\n",
       "\n",
       "    .dataframe thead th {\n",
       "        text-align: right;\n",
       "    }\n",
       "</style>\n",
       "<table border=\"1\" class=\"dataframe\">\n",
       "  <thead>\n",
       "    <tr style=\"text-align: right;\">\n",
       "      <th></th>\n",
       "      <th>tconst</th>\n",
       "      <th>titleType</th>\n",
       "      <th>primaryTitle</th>\n",
       "      <th>originalTitle</th>\n",
       "      <th>isAdult</th>\n",
       "      <th>startYear</th>\n",
       "      <th>endYear</th>\n",
       "      <th>runtimeMinutes</th>\n",
       "      <th>genres</th>\n",
       "    </tr>\n",
       "  </thead>\n",
       "  <tbody>\n",
       "    <tr>\n",
       "      <td>0</td>\n",
       "      <td>tt0000001</td>\n",
       "      <td>short</td>\n",
       "      <td>Carmencita</td>\n",
       "      <td>Carmencita</td>\n",
       "      <td>0</td>\n",
       "      <td>1894</td>\n",
       "      <td>\\N</td>\n",
       "      <td>1</td>\n",
       "      <td>Documentary,Short</td>\n",
       "    </tr>\n",
       "  </tbody>\n",
       "</table>\n",
       "</div>"
      ],
      "text/plain": [
       "      tconst titleType primaryTitle originalTitle  isAdult  startYear endYear  \\\n",
       "0  tt0000001     short   Carmencita    Carmencita        0       1894      \\N   \n",
       "\n",
       "  runtimeMinutes             genres  \n",
       "0              1  Documentary,Short  "
      ]
     },
     "execution_count": 19,
     "metadata": {},
     "output_type": "execute_result"
    }
   ],
   "source": [
    "title_basics.head(1)"
   ]
  },
  {
   "cell_type": "code",
   "execution_count": 20,
   "metadata": {},
   "outputs": [
    {
     "data": {
      "text/html": [
       "<div>\n",
       "<style scoped>\n",
       "    .dataframe tbody tr th:only-of-type {\n",
       "        vertical-align: middle;\n",
       "    }\n",
       "\n",
       "    .dataframe tbody tr th {\n",
       "        vertical-align: top;\n",
       "    }\n",
       "\n",
       "    .dataframe thead th {\n",
       "        text-align: right;\n",
       "    }\n",
       "</style>\n",
       "<table border=\"1\" class=\"dataframe\">\n",
       "  <thead>\n",
       "    <tr style=\"text-align: right;\">\n",
       "      <th></th>\n",
       "      <th>tconst</th>\n",
       "      <th>ordering</th>\n",
       "      <th>nconst</th>\n",
       "      <th>category</th>\n",
       "      <th>job</th>\n",
       "      <th>characters</th>\n",
       "    </tr>\n",
       "  </thead>\n",
       "  <tbody>\n",
       "    <tr>\n",
       "      <td>0</td>\n",
       "      <td>tt0000001</td>\n",
       "      <td>1</td>\n",
       "      <td>nm1588970</td>\n",
       "      <td>self</td>\n",
       "      <td>\\N</td>\n",
       "      <td>[\"Herself\"]</td>\n",
       "    </tr>\n",
       "  </tbody>\n",
       "</table>\n",
       "</div>"
      ],
      "text/plain": [
       "      tconst  ordering     nconst category job   characters\n",
       "0  tt0000001         1  nm1588970     self  \\N  [\"Herself\"]"
      ]
     },
     "execution_count": 20,
     "metadata": {},
     "output_type": "execute_result"
    }
   ],
   "source": [
    "title_principals.head(1)"
   ]
  },
  {
   "cell_type": "code",
   "execution_count": 21,
   "metadata": {},
   "outputs": [
    {
     "data": {
      "text/html": [
       "<div>\n",
       "<style scoped>\n",
       "    .dataframe tbody tr th:only-of-type {\n",
       "        vertical-align: middle;\n",
       "    }\n",
       "\n",
       "    .dataframe tbody tr th {\n",
       "        vertical-align: top;\n",
       "    }\n",
       "\n",
       "    .dataframe thead th {\n",
       "        text-align: right;\n",
       "    }\n",
       "</style>\n",
       "<table border=\"1\" class=\"dataframe\">\n",
       "  <thead>\n",
       "    <tr style=\"text-align: right;\">\n",
       "      <th></th>\n",
       "      <th>tconst</th>\n",
       "      <th>averageRating</th>\n",
       "      <th>numVotes</th>\n",
       "    </tr>\n",
       "  </thead>\n",
       "  <tbody>\n",
       "    <tr>\n",
       "      <td>0</td>\n",
       "      <td>tt0000001</td>\n",
       "      <td>5.6</td>\n",
       "      <td>1550</td>\n",
       "    </tr>\n",
       "  </tbody>\n",
       "</table>\n",
       "</div>"
      ],
      "text/plain": [
       "      tconst  averageRating  numVotes\n",
       "0  tt0000001            5.6      1550"
      ]
     },
     "execution_count": 21,
     "metadata": {},
     "output_type": "execute_result"
    }
   ],
   "source": [
    "title_ratings.head(1)"
   ]
  },
  {
   "cell_type": "code",
   "execution_count": 22,
   "metadata": {},
   "outputs": [
    {
     "data": {
      "text/plain": [
       "Index(['adult', 'backdrop_path', 'belongs_to_collection', 'budget', 'genres',\n",
       "       'homepage', 'id', 'imdb_id', 'original_language', 'original_title',\n",
       "       'overview', 'popularity', 'poster_path', 'production_companies',\n",
       "       'production_countries', 'release_date', 'revenue', 'runtime',\n",
       "       'spoken_languages', 'status', 'tagline', 'title', 'video',\n",
       "       'vote_average', 'vote_count', 'year'],\n",
       "      dtype='object')"
      ]
     },
     "execution_count": 22,
     "metadata": {},
     "output_type": "execute_result"
    }
   ],
   "source": [
    "tmdb.columns"
   ]
  },
  {
   "cell_type": "code",
   "execution_count": 23,
   "metadata": {},
   "outputs": [],
   "source": [
    "df_v1 = pd.merge(df, title_basics[title_basics.titleType=='movie'],  how='left',\n",
    "                  left_on=['movie_name','release_year'], \n",
    "                  right_on = ['primaryTitle','startYear'])"
   ]
  },
  {
   "cell_type": "code",
   "execution_count": 24,
   "metadata": {},
   "outputs": [
    {
     "data": {
      "text/plain": [
       "55520"
      ]
     },
     "execution_count": 24,
     "metadata": {},
     "output_type": "execute_result"
    }
   ],
   "source": [
    "sum(df_v1.primaryTitle.isnull())"
   ]
  },
  {
   "cell_type": "code",
   "execution_count": 25,
   "metadata": {},
   "outputs": [
    {
     "data": {
      "text/plain": [
       "(299379, 17)"
      ]
     },
     "execution_count": 25,
     "metadata": {},
     "output_type": "execute_result"
    }
   ],
   "source": [
    "df_v1.shape"
   ]
  },
  {
   "cell_type": "code",
   "execution_count": 26,
   "metadata": {},
   "outputs": [
    {
     "data": {
      "text/plain": [
       "(293470, 8)"
      ]
     },
     "execution_count": 26,
     "metadata": {},
     "output_type": "execute_result"
    }
   ],
   "source": [
    "df.shape"
   ]
  },
  {
   "cell_type": "code",
   "execution_count": 27,
   "metadata": {},
   "outputs": [
    {
     "name": "stdout",
     "output_type": "stream",
     "text": [
      "5909 entries added due to duplicate matches\n"
     ]
    }
   ],
   "source": [
    "print(f'{df_v1.shape[0] - df.shape[0]} entries added due to duplicate matches')"
   ]
  },
  {
   "cell_type": "code",
   "execution_count": 28,
   "metadata": {},
   "outputs": [],
   "source": [
    "df_v2 = pd.merge(df_v1, tmdb,  how='left',\n",
    "                     left_on=['movie_name','release_year','tconst'], \n",
    "                     right_on = ['title','year','imdb_id'],\n",
    "                     suffixes=(\"_orig\",\"_tmdb\"))"
   ]
  },
  {
   "cell_type": "code",
   "execution_count": 29,
   "metadata": {},
   "outputs": [
    {
     "data": {
      "text/html": [
       "<div>\n",
       "<style scoped>\n",
       "    .dataframe tbody tr th:only-of-type {\n",
       "        vertical-align: middle;\n",
       "    }\n",
       "\n",
       "    .dataframe tbody tr th {\n",
       "        vertical-align: top;\n",
       "    }\n",
       "\n",
       "    .dataframe thead th {\n",
       "        text-align: right;\n",
       "    }\n",
       "</style>\n",
       "<table border=\"1\" class=\"dataframe\">\n",
       "  <thead>\n",
       "    <tr style=\"text-align: right;\">\n",
       "      <th></th>\n",
       "      <th>user_name</th>\n",
       "      <th>movie_name</th>\n",
       "      <th>release_year</th>\n",
       "      <th>user_review</th>\n",
       "      <th>user_rating</th>\n",
       "      <th>review_date</th>\n",
       "      <th>rewatched</th>\n",
       "      <th>review_likes</th>\n",
       "      <th>tconst</th>\n",
       "      <th>titleType</th>\n",
       "      <th>primaryTitle</th>\n",
       "      <th>originalTitle</th>\n",
       "      <th>isAdult</th>\n",
       "      <th>startYear</th>\n",
       "      <th>endYear</th>\n",
       "      <th>runtimeMinutes</th>\n",
       "      <th>genres_orig</th>\n",
       "      <th>adult</th>\n",
       "      <th>backdrop_path</th>\n",
       "      <th>belongs_to_collection</th>\n",
       "      <th>budget</th>\n",
       "      <th>genres_tmdb</th>\n",
       "      <th>homepage</th>\n",
       "      <th>id</th>\n",
       "      <th>imdb_id</th>\n",
       "      <th>original_language</th>\n",
       "      <th>original_title</th>\n",
       "      <th>overview</th>\n",
       "      <th>popularity</th>\n",
       "      <th>poster_path</th>\n",
       "      <th>production_companies</th>\n",
       "      <th>production_countries</th>\n",
       "      <th>release_date</th>\n",
       "      <th>revenue</th>\n",
       "      <th>runtime</th>\n",
       "      <th>spoken_languages</th>\n",
       "      <th>status</th>\n",
       "      <th>tagline</th>\n",
       "      <th>title</th>\n",
       "      <th>video</th>\n",
       "      <th>vote_average</th>\n",
       "      <th>vote_count</th>\n",
       "      <th>year</th>\n",
       "    </tr>\n",
       "  </thead>\n",
       "  <tbody>\n",
       "    <tr>\n",
       "      <td>0</td>\n",
       "      <td>/worsethan/</td>\n",
       "      <td>Star Wars: The Rise of Skywalker</td>\n",
       "      <td>2019</td>\n",
       "      <td>\"I remember when I was with Special ...</td>\n",
       "      <td>10</td>\n",
       "      <td>21 Dec, 2019</td>\n",
       "      <td>0</td>\n",
       "      <td>187</td>\n",
       "      <td>tt2527338</td>\n",
       "      <td>movie</td>\n",
       "      <td>Star Wars: The Rise of Skywalker</td>\n",
       "      <td>Star Wars: Episode IX - The Rise of ...</td>\n",
       "      <td>0.0</td>\n",
       "      <td>2019.0</td>\n",
       "      <td>\\N</td>\n",
       "      <td>155</td>\n",
       "      <td>Action,Adventure,Fantasy</td>\n",
       "      <td>False</td>\n",
       "      <td>/jOzrELAzFxtMx2I4uDGHOotdfsS.jpg</td>\n",
       "      <td>{'id': 10, 'name': 'Star Wars Collec...</td>\n",
       "      <td>0</td>\n",
       "      <td>[{'id': 28, 'name': 'Action'}, {'id'...</td>\n",
       "      <td>https://www.starwars.com/films/star-...</td>\n",
       "      <td>181812.0</td>\n",
       "      <td>tt2527338</td>\n",
       "      <td>en</td>\n",
       "      <td>Star Wars: The Rise of Skywalker</td>\n",
       "      <td>The next installment in the franchis...</td>\n",
       "      <td>34.725</td>\n",
       "      <td>/db32LaOibwEliAmSL2jjDF6oDdj.jpg</td>\n",
       "      <td>[{'id': 1, 'logo_path': '/o86Dbpburj...</td>\n",
       "      <td>[{'iso_3166_1': 'JO', 'name': 'Jorda...</td>\n",
       "      <td>2019-12-18</td>\n",
       "      <td>0.0</td>\n",
       "      <td>155.0</td>\n",
       "      <td>[{'iso_639_1': 'en', 'name': 'Englis...</td>\n",
       "      <td>Post Production</td>\n",
       "      <td>Every generation has a legend</td>\n",
       "      <td>Star Wars: The Rise of Skywalker</td>\n",
       "      <td>False</td>\n",
       "      <td>0.0</td>\n",
       "      <td>0.0</td>\n",
       "      <td>2019.0</td>\n",
       "    </tr>\n",
       "  </tbody>\n",
       "</table>\n",
       "</div>"
      ],
      "text/plain": [
       "     user_name                        movie_name  release_year  \\\n",
       "0  /worsethan/  Star Wars: The Rise of Skywalker          2019   \n",
       "\n",
       "                               user_review  user_rating   review_date  \\\n",
       "0  \"I remember when I was with Special ...           10  21 Dec, 2019   \n",
       "\n",
       "   rewatched  review_likes     tconst titleType  \\\n",
       "0          0           187  tt2527338     movie   \n",
       "\n",
       "                       primaryTitle                            originalTitle  \\\n",
       "0  Star Wars: The Rise of Skywalker  Star Wars: Episode IX - The Rise of ...   \n",
       "\n",
       "   isAdult  startYear endYear runtimeMinutes               genres_orig  adult  \\\n",
       "0      0.0     2019.0      \\N            155  Action,Adventure,Fantasy  False   \n",
       "\n",
       "                      backdrop_path                    belongs_to_collection  \\\n",
       "0  /jOzrELAzFxtMx2I4uDGHOotdfsS.jpg  {'id': 10, 'name': 'Star Wars Collec...   \n",
       "\n",
       "  budget                              genres_tmdb  \\\n",
       "0      0  [{'id': 28, 'name': 'Action'}, {'id'...   \n",
       "\n",
       "                                  homepage        id    imdb_id  \\\n",
       "0  https://www.starwars.com/films/star-...  181812.0  tt2527338   \n",
       "\n",
       "  original_language                    original_title  \\\n",
       "0                en  Star Wars: The Rise of Skywalker   \n",
       "\n",
       "                                  overview popularity  \\\n",
       "0  The next installment in the franchis...     34.725   \n",
       "\n",
       "                        poster_path                     production_companies  \\\n",
       "0  /db32LaOibwEliAmSL2jjDF6oDdj.jpg  [{'id': 1, 'logo_path': '/o86Dbpburj...   \n",
       "\n",
       "                      production_countries release_date  revenue  runtime  \\\n",
       "0  [{'iso_3166_1': 'JO', 'name': 'Jorda...   2019-12-18      0.0    155.0   \n",
       "\n",
       "                          spoken_languages           status  \\\n",
       "0  [{'iso_639_1': 'en', 'name': 'Englis...  Post Production   \n",
       "\n",
       "                         tagline                             title  video  \\\n",
       "0  Every generation has a legend  Star Wars: The Rise of Skywalker  False   \n",
       "\n",
       "   vote_average  vote_count    year  \n",
       "0           0.0         0.0  2019.0  "
      ]
     },
     "execution_count": 29,
     "metadata": {},
     "output_type": "execute_result"
    }
   ],
   "source": [
    "df_v2.head(1)"
   ]
  },
  {
   "cell_type": "code",
   "execution_count": 30,
   "metadata": {},
   "outputs": [
    {
     "data": {
      "text/plain": [
       "(299390, 43)"
      ]
     },
     "execution_count": 30,
     "metadata": {},
     "output_type": "execute_result"
    }
   ],
   "source": [
    "df_v2.shape"
   ]
  },
  {
   "cell_type": "code",
   "execution_count": 31,
   "metadata": {},
   "outputs": [
    {
     "name": "stdout",
     "output_type": "stream",
     "text": [
      "Total of 5920 entries added due to duplicate matches after combining with tmdb dataset from Kaggle\n",
      "[https://www.kaggle.com/mathlasker/tmdballmovies]\n"
     ]
    }
   ],
   "source": [
    "print(f'Total of {df_v2.shape[0] - df.shape[0]} entries added due to duplicate matches after combining with tmdb dataset from Kaggle\\n\\\n",
    "[https://www.kaggle.com/mathlasker/tmdballmovies]')"
   ]
  },
  {
   "cell_type": "code",
   "execution_count": 32,
   "metadata": {},
   "outputs": [
    {
     "name": "stdout",
     "output_type": "stream",
     "text": [
      "Total titles missing from tmdb dataset: 67637 \n",
      "Total titles missing from imdb dataset: 55520 \n",
      "Total titles missing after merging both: 24787\n"
     ]
    }
   ],
   "source": [
    "print(f'Total titles missing from tmdb dataset: {df_v2.title.isnull().sum()} \\n\\\n",
    "Total titles missing from imdb dataset: {df_v1.primaryTitle.isnull().sum()} \\n\\\n",
    "Total titles missing after merging both: {df_v2.title.fillna(df_v1.primaryTitle).isnull().sum()}')"
   ]
  },
  {
   "cell_type": "code",
   "execution_count": 33,
   "metadata": {},
   "outputs": [],
   "source": [
    "df_v2[\"title_inferred\"] = df_v2[\"title\"].fillna(df_v2[\"primaryTitle\"])\n"
   ]
  },
  {
   "cell_type": "code",
   "execution_count": 34,
   "metadata": {},
   "outputs": [
    {
     "data": {
      "text/plain": [
       "(34113, 32909, 33093)"
      ]
     },
     "execution_count": 34,
     "metadata": {},
     "output_type": "execute_result"
    }
   ],
   "source": [
    "df_v2.title_inferred.nunique(), df_v2[\"title\"].nunique(), df_v2[\"primaryTitle\"].nunique()"
   ]
  },
  {
   "cell_type": "code",
   "execution_count": 35,
   "metadata": {},
   "outputs": [
    {
     "data": {
      "text/html": [
       "<div>\n",
       "<style scoped>\n",
       "    .dataframe tbody tr th:only-of-type {\n",
       "        vertical-align: middle;\n",
       "    }\n",
       "\n",
       "    .dataframe tbody tr th {\n",
       "        vertical-align: top;\n",
       "    }\n",
       "\n",
       "    .dataframe thead th {\n",
       "        text-align: right;\n",
       "    }\n",
       "</style>\n",
       "<table border=\"1\" class=\"dataframe\">\n",
       "  <thead>\n",
       "    <tr style=\"text-align: right;\">\n",
       "      <th></th>\n",
       "      <th>user_name</th>\n",
       "      <th>movie_name</th>\n",
       "      <th>primaryTitle</th>\n",
       "      <th>title</th>\n",
       "      <th>imdb_id</th>\n",
       "      <th>tconst</th>\n",
       "      <th>runtimeMinutes</th>\n",
       "      <th>runtime</th>\n",
       "      <th>user_review</th>\n",
       "    </tr>\n",
       "  </thead>\n",
       "  <tbody>\n",
       "    <tr>\n",
       "      <td>11</td>\n",
       "      <td>/worsethan/</td>\n",
       "      <td>Once Upon a Time… in Hollywood</td>\n",
       "      <td>NaN</td>\n",
       "      <td>NaN</td>\n",
       "      <td>NaN</td>\n",
       "      <td>NaN</td>\n",
       "      <td>NaN</td>\n",
       "      <td>NaN</td>\n",
       "      <td>Blasphemously watched this on a post...</td>\n",
       "    </tr>\n",
       "    <tr>\n",
       "      <td>24</td>\n",
       "      <td>/worsethan/</td>\n",
       "      <td>Hotel Mumbai</td>\n",
       "      <td>Hotel Mumbai</td>\n",
       "      <td>NaN</td>\n",
       "      <td>NaN</td>\n",
       "      <td>tt5461944</td>\n",
       "      <td>123</td>\n",
       "      <td>NaN</td>\n",
       "      <td>Got that United 93 \"shit happens\" vibe.</td>\n",
       "    </tr>\n",
       "    <tr>\n",
       "      <td>25</td>\n",
       "      <td>/worsethan/</td>\n",
       "      <td>Return of the Living Dead Part II</td>\n",
       "      <td>NaN</td>\n",
       "      <td>NaN</td>\n",
       "      <td>NaN</td>\n",
       "      <td>NaN</td>\n",
       "      <td>NaN</td>\n",
       "      <td>NaN</td>\n",
       "      <td>Inferior to the original in every wa...</td>\n",
       "    </tr>\n",
       "    <tr>\n",
       "      <td>29</td>\n",
       "      <td>/worsethan/</td>\n",
       "      <td>68 Kill</td>\n",
       "      <td>68 Kill</td>\n",
       "      <td>NaN</td>\n",
       "      <td>NaN</td>\n",
       "      <td>tt5189894</td>\n",
       "      <td>93</td>\n",
       "      <td>NaN</td>\n",
       "      <td>Flagrant anti-thot propaganda.</td>\n",
       "    </tr>\n",
       "    <tr>\n",
       "      <td>74</td>\n",
       "      <td>/worsethan/</td>\n",
       "      <td>Molly’s Game</td>\n",
       "      <td>NaN</td>\n",
       "      <td>NaN</td>\n",
       "      <td>NaN</td>\n",
       "      <td>NaN</td>\n",
       "      <td>NaN</td>\n",
       "      <td>NaN</td>\n",
       "      <td>The most annoying thing about Sorkin...</td>\n",
       "    </tr>\n",
       "    <tr>\n",
       "      <td>88</td>\n",
       "      <td>/worsethan/</td>\n",
       "      <td>Vice</td>\n",
       "      <td>Vice</td>\n",
       "      <td>Vice</td>\n",
       "      <td>tt6266538</td>\n",
       "      <td>tt6266538</td>\n",
       "      <td>132</td>\n",
       "      <td>132.0</td>\n",
       "      <td>Like watching someone try to eat a H...</td>\n",
       "    </tr>\n",
       "    <tr>\n",
       "      <td>89</td>\n",
       "      <td>/worsethan/</td>\n",
       "      <td>Zama</td>\n",
       "      <td>Zama</td>\n",
       "      <td>Zama</td>\n",
       "      <td>tt3409848</td>\n",
       "      <td>tt3409848</td>\n",
       "      <td>115</td>\n",
       "      <td>115.0</td>\n",
       "      <td>Something in my brain rejects movies...</td>\n",
       "    </tr>\n",
       "    <tr>\n",
       "      <td>97</td>\n",
       "      <td>/worsethan/</td>\n",
       "      <td>Triangle</td>\n",
       "      <td>Triangle</td>\n",
       "      <td>Triangle</td>\n",
       "      <td>tt1187064</td>\n",
       "      <td>tt1187064</td>\n",
       "      <td>99</td>\n",
       "      <td>99.0</td>\n",
       "      <td>I'm realizing these movies just kind...</td>\n",
       "    </tr>\n",
       "  </tbody>\n",
       "</table>\n",
       "</div>"
      ],
      "text/plain": [
       "      user_name                         movie_name  primaryTitle     title  \\\n",
       "11  /worsethan/     Once Upon a Time… in Hollywood           NaN       NaN   \n",
       "24  /worsethan/                       Hotel Mumbai  Hotel Mumbai       NaN   \n",
       "25  /worsethan/  Return of the Living Dead Part II           NaN       NaN   \n",
       "29  /worsethan/                            68 Kill       68 Kill       NaN   \n",
       "74  /worsethan/                       Molly’s Game           NaN       NaN   \n",
       "88  /worsethan/                               Vice          Vice      Vice   \n",
       "89  /worsethan/                               Zama          Zama      Zama   \n",
       "97  /worsethan/                           Triangle      Triangle  Triangle   \n",
       "\n",
       "      imdb_id     tconst runtimeMinutes  runtime  \\\n",
       "11        NaN        NaN            NaN      NaN   \n",
       "24        NaN  tt5461944            123      NaN   \n",
       "25        NaN        NaN            NaN      NaN   \n",
       "29        NaN  tt5189894             93      NaN   \n",
       "74        NaN        NaN            NaN      NaN   \n",
       "88  tt6266538  tt6266538            132    132.0   \n",
       "89  tt3409848  tt3409848            115    115.0   \n",
       "97  tt1187064  tt1187064             99     99.0   \n",
       "\n",
       "                                user_review  \n",
       "11  Blasphemously watched this on a post...  \n",
       "24  Got that United 93 \"shit happens\" vibe.  \n",
       "25  Inferior to the original in every wa...  \n",
       "29           Flagrant anti-thot propaganda.  \n",
       "74  The most annoying thing about Sorkin...  \n",
       "88  Like watching someone try to eat a H...  \n",
       "89  Something in my brain rejects movies...  \n",
       "97  I'm realizing these movies just kind...  "
      ]
     },
     "execution_count": 35,
     "metadata": {},
     "output_type": "execute_result"
    }
   ],
   "source": [
    "df_v2.loc[[11,24,25,29,74,88,89,97],['user_name','movie_name','primaryTitle','title','imdb_id','tconst','runtimeMinutes',\n",
    "                                        'runtime','user_review']]"
   ]
  },
  {
   "cell_type": "code",
   "execution_count": 36,
   "metadata": {},
   "outputs": [],
   "source": [
    "# SKIP for NOW\n",
    "# Lets look at duplicate entries\n",
    "# duplicates = pd.concat(g for _, g in df_v2.groupby(\"user_review\") if len(g) > 1)\n",
    "# print(f\"The number of duplicates: {duplicates.shape[0]}\")\n",
    "# # Peek into duplicates\n",
    "# duplicates[duplicates.user_review.str.strip()!=\"\"].head()"
   ]
  },
  {
   "cell_type": "markdown",
   "metadata": {},
   "source": [
    "Looks like most duplicates are from the same name productions from the same year."
   ]
  },
  {
   "cell_type": "code",
   "execution_count": 37,
   "metadata": {},
   "outputs": [],
   "source": [
    "common_movies = list(set(df_v2.tconst.unique()).intersection(set(title_principals.tconst.unique())))"
   ]
  },
  {
   "cell_type": "code",
   "execution_count": 38,
   "metadata": {
    "scrolled": true
   },
   "outputs": [
    {
     "data": {
      "text/plain": [
       "0"
      ]
     },
     "execution_count": 38,
     "metadata": {},
     "output_type": "execute_result"
    }
   ],
   "source": [
    "pd.isnull(common_movies).sum()"
   ]
  },
  {
   "cell_type": "code",
   "execution_count": 39,
   "metadata": {},
   "outputs": [],
   "source": [
    "length_list = [len(item) for item in common_movies]"
   ]
  },
  {
   "cell_type": "code",
   "execution_count": 40,
   "metadata": {},
   "outputs": [
    {
     "data": {
      "text/plain": [
       "array([ 9, 10])"
      ]
     },
     "execution_count": 40,
     "metadata": {},
     "output_type": "execute_result"
    }
   ],
   "source": [
    "np.unique(length_list)"
   ]
  },
  {
   "cell_type": "code",
   "execution_count": 41,
   "metadata": {},
   "outputs": [],
   "source": [
    "name_basics.fillna(\"no_info\", inplace=True)"
   ]
  },
  {
   "cell_type": "code",
   "execution_count": 42,
   "metadata": {},
   "outputs": [],
   "source": [
    "def get_people(imdb_mov_id):\n",
    "    if imdb_mov_id not in common_movies:\n",
    "        return \"no_info\", \"no_info\", \"no_info\", \"no_info\", \"no_info\"\n",
    "    temp = title_principals.loc[title_principals['tconst']==imdb_mov_id]\n",
    "    people_codes = temp[\"nconst\"].values\n",
    "    row_logical = name_basics.nconst.isin(people_codes)\n",
    "    names = \" \".join([name.replace(\" \",\"\") for name in name_basics.loc[row_logical,\"primaryName\"]])\n",
    "    birth_years = \" \".join(name_basics.loc[row_logical,\"birthYear\"])\n",
    "    death_years = \" \".join(name_basics.loc[row_logical,\"deathYear\"])\n",
    "    professions = \" \".join(name_basics.loc[row_logical,\"primaryProfession\"])\n",
    "    known_for_movies = \" \".join(name.replace(\",\",\" \") for name in name_basics.loc[row_logical,\"knownForTitles\"])\n",
    "    return names, birth_years, death_years, professions, known_for_movies"
   ]
  },
  {
   "cell_type": "code",
   "execution_count": 44,
   "metadata": {},
   "outputs": [],
   "source": [
    "# Using single CPU - SLOW!\n",
    "def generate_people_feats(df, from_scratch=True, from_=0):\n",
    "    if from_scratch:\n",
    "        for col in [\"names\", \"birth_years\", \"death_years\", \"professions\", \"known_for\"]:\n",
    "            df[col] = pd.core.series.Series(dtype='object')\n",
    "    for i_x, mov_id in enumerate(df['tconst'].unique()[from_:]):\n",
    "        names, birth_years, death_years, professions, known_for_movies = get_people(mov_id)\n",
    "        logical_idx = df.tconst==mov_id\n",
    "        df.loc[logical_idx, 'names'] = names\n",
    "        df.loc[logical_idx, 'birth_years'] = birth_years\n",
    "        df.loc[logical_idx, 'death_years'] = death_years\n",
    "        df.loc[logical_idx, 'professions'] = professions\n",
    "        df.loc[logical_idx, 'known_for'] = known_for_movies\n",
    "        print(\"At: \" + str(from_+i_x) + f\": {mov_id}\")\n",
    "        gc.collect()"
   ]
  },
  {
   "cell_type": "code",
   "execution_count": null,
   "metadata": {},
   "outputs": [],
   "source": [
    "# USED to generate people info features, SLOW, keyborad interrupted to continue\n",
    "generate_people_feats(df_v2)\n",
    "# Example:\n",
    "# generate_people_feats(df_cont,from_scratch=False, from_=16000)"
   ]
  },
  {
   "cell_type": "code",
   "execution_count": null,
   "metadata": {},
   "outputs": [],
   "source": [
    "# keyborad interrupted saved and continued from where it left\n",
    "df_v2.to_csv(\"data_preprocessed.csv\")"
   ]
  },
  {
   "cell_type": "code",
   "execution_count": 50,
   "metadata": {},
   "outputs": [],
   "source": [
    "df_cont = pd.read_csv(\"data_preprocessed.csv\", index_col=0)\n",
    "# Example:\n",
    "# generate_people_feats(df_cont,from_scratch=False, from_=16000)"
   ]
  },
  {
   "cell_type": "code",
   "execution_count": 56,
   "metadata": {},
   "outputs": [],
   "source": [
    "# Continuing from 16k th movie id\n",
    "codes = df_cont['tconst'].unique()[16000:]\n",
    "logical = df_cont['tconst'].isin(codes)"
   ]
  },
  {
   "cell_type": "code",
   "execution_count": 167,
   "metadata": {},
   "outputs": [
    {
     "name": "stdout",
     "output_type": "stream",
     "text": [
      "There were 35960 movie ids which took about 3/4 of a day with a single GPU \n",
      "The rest of 19960 movie ids had 34426 entries and took 2.6 hours with 8 CPU threads using pandarallel\n"
     ]
    }
   ],
   "source": [
    "print(f\"There were {len(df_cont['tconst'].unique())} movie ids which took about 3/4 of a day with a single GPU \\n\\\n",
    "The rest of {len(codes)} movie ids had {logical.sum()} entries and took 2.6 hours with 8 CPU threads using pandarallel\")"
   ]
  },
  {
   "cell_type": "code",
   "execution_count": 69,
   "metadata": {},
   "outputs": [
    {
     "data": {
      "application/vnd.jupyter.widget-view+json": {
       "model_id": "6b1ea8632eba4eeab2d85db9d2c2a68f",
       "version_major": 2,
       "version_minor": 0
      },
      "text/plain": [
       "VBox(children=(HBox(children=(IntProgress(value=0, description='0.00%', max=4304), Label(value='0 / 4304'))), …"
      ]
     },
     "metadata": {},
     "output_type": "display_data"
    }
   ],
   "source": [
    "t1 = time.time()\n",
    "df_cont.loc[logical, ['names','birth_years','death_years','professions','known_for']] = df_cont.loc[logical,\"tconst\"].parallel_apply(lambda x: get_people(x))\n",
    "t2 = time.time()"
   ]
  },
  {
   "cell_type": "code",
   "execution_count": 166,
   "metadata": {},
   "outputs": [
    {
     "name": "stdout",
     "output_type": "stream",
     "text": [
      "Total Time: 2.6 hours\n"
     ]
    }
   ],
   "source": [
    "print(\"Total Time: {:.1f} hours\".format(round(t2-t1)/3600))"
   ]
  },
  {
   "cell_type": "code",
   "execution_count": 79,
   "metadata": {},
   "outputs": [
    {
     "data": {
      "text/html": [
       "<div>\n",
       "<style scoped>\n",
       "    .dataframe tbody tr th:only-of-type {\n",
       "        vertical-align: middle;\n",
       "    }\n",
       "\n",
       "    .dataframe tbody tr th {\n",
       "        vertical-align: top;\n",
       "    }\n",
       "\n",
       "    .dataframe thead th {\n",
       "        text-align: right;\n",
       "    }\n",
       "</style>\n",
       "<table border=\"1\" class=\"dataframe\">\n",
       "  <thead>\n",
       "    <tr style=\"text-align: right;\">\n",
       "      <th></th>\n",
       "      <th>user_name</th>\n",
       "      <th>movie_name</th>\n",
       "      <th>release_year</th>\n",
       "      <th>user_review</th>\n",
       "      <th>user_rating</th>\n",
       "      <th>review_date</th>\n",
       "      <th>rewatched</th>\n",
       "      <th>review_likes</th>\n",
       "      <th>tconst</th>\n",
       "      <th>titleType</th>\n",
       "      <th>primaryTitle</th>\n",
       "      <th>originalTitle</th>\n",
       "      <th>isAdult</th>\n",
       "      <th>startYear</th>\n",
       "      <th>endYear</th>\n",
       "      <th>runtimeMinutes</th>\n",
       "      <th>genres_orig</th>\n",
       "      <th>adult</th>\n",
       "      <th>backdrop_path</th>\n",
       "      <th>belongs_to_collection</th>\n",
       "      <th>budget</th>\n",
       "      <th>genres_tmdb</th>\n",
       "      <th>homepage</th>\n",
       "      <th>id</th>\n",
       "      <th>imdb_id</th>\n",
       "      <th>original_language</th>\n",
       "      <th>original_title</th>\n",
       "      <th>overview</th>\n",
       "      <th>popularity</th>\n",
       "      <th>poster_path</th>\n",
       "      <th>production_companies</th>\n",
       "      <th>production_countries</th>\n",
       "      <th>release_date</th>\n",
       "      <th>revenue</th>\n",
       "      <th>runtime</th>\n",
       "      <th>spoken_languages</th>\n",
       "      <th>status</th>\n",
       "      <th>tagline</th>\n",
       "      <th>title</th>\n",
       "      <th>video</th>\n",
       "      <th>vote_average</th>\n",
       "      <th>vote_count</th>\n",
       "      <th>year</th>\n",
       "      <th>title_inferred</th>\n",
       "      <th>names</th>\n",
       "      <th>birth_years</th>\n",
       "      <th>death_years</th>\n",
       "      <th>professions</th>\n",
       "      <th>known_for</th>\n",
       "    </tr>\n",
       "  </thead>\n",
       "  <tbody>\n",
       "    <tr>\n",
       "      <td>68140</td>\n",
       "      <td>/justindecloux/</td>\n",
       "      <td>Night of the Howling Beast</td>\n",
       "      <td>1975</td>\n",
       "      <td>Paul Naschy always looks good as a w...</td>\n",
       "      <td>5</td>\n",
       "      <td>15 Oct, 2018</td>\n",
       "      <td>0</td>\n",
       "      <td>2</td>\n",
       "      <td>tt0073338</td>\n",
       "      <td>movie</td>\n",
       "      <td>Night of the Howling Beast</td>\n",
       "      <td>La maldición de la bestia</td>\n",
       "      <td>0.0</td>\n",
       "      <td>1975.0</td>\n",
       "      <td>\\N</td>\n",
       "      <td>94</td>\n",
       "      <td>Adventure,Horror</td>\n",
       "      <td>False</td>\n",
       "      <td>/4W9rULtHTBVhKqx4JkkUqaKjsgM.jpg</td>\n",
       "      <td>NaN</td>\n",
       "      <td>0.0</td>\n",
       "      <td>[{'id': 12, 'name': 'Adventure'}, {'...</td>\n",
       "      <td>NaN</td>\n",
       "      <td>54112.0</td>\n",
       "      <td>tt0073338</td>\n",
       "      <td>en</td>\n",
       "      <td>La maldición de la bestia</td>\n",
       "      <td>Waldemar, the renowned adventurer, j...</td>\n",
       "      <td>3.462</td>\n",
       "      <td>/z1u43lRSv8EkPNjlhnnTlE6GAch.jpg</td>\n",
       "      <td>[{'id': 4948, 'logo_path': None, 'na...</td>\n",
       "      <td>[{'iso_3166_1': 'ES', 'name': 'Spain'}]</td>\n",
       "      <td>1975-01-01</td>\n",
       "      <td>0.0</td>\n",
       "      <td>94.0</td>\n",
       "      <td>[{'iso_639_1': 'es', 'name': 'Españo...</td>\n",
       "      <td>Released</td>\n",
       "      <td>Two bloodthirsty beasts in deadly co...</td>\n",
       "      <td>Night of the Howling Beast</td>\n",
       "      <td>False</td>\n",
       "      <td>5.2</td>\n",
       "      <td>5.0</td>\n",
       "      <td>1975.0</td>\n",
       "      <td>Night of the Howling Beast</td>\n",
       "      <td>(CamEspaña CarmenFábregas MiguelIgle...</td>\n",
       "      <td>(CamEspaña CarmenFábregas MiguelIgle...</td>\n",
       "      <td>(CamEspaña CarmenFábregas MiguelIgle...</td>\n",
       "      <td>(CamEspaña CarmenFábregas MiguelIgle...</td>\n",
       "      <td>(CamEspaña CarmenFábregas MiguelIgle...</td>\n",
       "    </tr>\n",
       "    <tr>\n",
       "      <td>68141</td>\n",
       "      <td>/justindecloux/</td>\n",
       "      <td>Ninja Zombie</td>\n",
       "      <td>1992</td>\n",
       "      <td>More funny and competent then I expe...</td>\n",
       "      <td>6</td>\n",
       "      <td>15 Oct, 2018</td>\n",
       "      <td>0</td>\n",
       "      <td>5</td>\n",
       "      <td>tt8184986</td>\n",
       "      <td>movie</td>\n",
       "      <td>Ninja Zombie</td>\n",
       "      <td>Ninja Zombie</td>\n",
       "      <td>0.0</td>\n",
       "      <td>1992.0</td>\n",
       "      <td>\\N</td>\n",
       "      <td>87</td>\n",
       "      <td>Action</td>\n",
       "      <td>False</td>\n",
       "      <td>/bJkrxGHjXtxxIl6k449iLtlNRsM.jpg</td>\n",
       "      <td>NaN</td>\n",
       "      <td>0.0</td>\n",
       "      <td>[{'id': 27, 'name': 'Horror'}, {'id'...</td>\n",
       "      <td>https://www.facebook.com/ninjazombie...</td>\n",
       "      <td>323371.0</td>\n",
       "      <td>tt8184986</td>\n",
       "      <td>en</td>\n",
       "      <td>Ninja Zombie</td>\n",
       "      <td>Assistant professor Orlan Sands is r...</td>\n",
       "      <td>1.434</td>\n",
       "      <td>/4Owj2GbP1Fk83AF51HijtjlZ5px.jpg</td>\n",
       "      <td>[{'id': 45765, 'logo_path': None, 'n...</td>\n",
       "      <td>[{'iso_3166_1': 'US', 'name': 'Unite...</td>\n",
       "      <td>1992-02-21</td>\n",
       "      <td>0.0</td>\n",
       "      <td>85.0</td>\n",
       "      <td>[{'iso_639_1': 'en', 'name': 'Englis...</td>\n",
       "      <td>Released</td>\n",
       "      <td>Guts. Gore. Blood- Babes. All in a d...</td>\n",
       "      <td>Ninja Zombie</td>\n",
       "      <td>False</td>\n",
       "      <td>0.0</td>\n",
       "      <td>0.0</td>\n",
       "      <td>1992.0</td>\n",
       "      <td>Ninja Zombie</td>\n",
       "      <td>(PeterBiagi RonForsythe DonaldRasmus...</td>\n",
       "      <td>(PeterBiagi RonForsythe DonaldRasmus...</td>\n",
       "      <td>(PeterBiagi RonForsythe DonaldRasmus...</td>\n",
       "      <td>(PeterBiagi RonForsythe DonaldRasmus...</td>\n",
       "      <td>(PeterBiagi RonForsythe DonaldRasmus...</td>\n",
       "    </tr>\n",
       "    <tr>\n",
       "      <td>68144</td>\n",
       "      <td>/justindecloux/</td>\n",
       "      <td>The Damned</td>\n",
       "      <td>2013</td>\n",
       "      <td>I like that it turns into the seriou...</td>\n",
       "      <td>4</td>\n",
       "      <td>13 Oct, 2018</td>\n",
       "      <td>0</td>\n",
       "      <td>1</td>\n",
       "      <td>tt2387408</td>\n",
       "      <td>movie</td>\n",
       "      <td>The Damned</td>\n",
       "      <td>Gallows Hill</td>\n",
       "      <td>0.0</td>\n",
       "      <td>2013.0</td>\n",
       "      <td>\\N</td>\n",
       "      <td>87</td>\n",
       "      <td>Horror,Mystery,Thriller</td>\n",
       "      <td>False</td>\n",
       "      <td>/mUjLt8b7dKbLHiaVBpSp7AUJXfn.jpg</td>\n",
       "      <td>NaN</td>\n",
       "      <td>3000000.0</td>\n",
       "      <td>[{'id': 53, 'name': 'Thriller'}, {'i...</td>\n",
       "      <td>NaN</td>\n",
       "      <td>258086.0</td>\n",
       "      <td>tt2387408</td>\n",
       "      <td>en</td>\n",
       "      <td>The Damned</td>\n",
       "      <td>After suffering the recent loss of h...</td>\n",
       "      <td>7.665</td>\n",
       "      <td>/r7rp9wxy8nkCUwro6A792NB8Hb2.jpg</td>\n",
       "      <td>[{'id': 13921, 'logo_path': None, 'n...</td>\n",
       "      <td>[{'iso_3166_1': 'US', 'name': 'Unite...</td>\n",
       "      <td>2013-10-17</td>\n",
       "      <td>5758519.0</td>\n",
       "      <td>87.0</td>\n",
       "      <td>[{'iso_639_1': 'en', 'name': 'Englis...</td>\n",
       "      <td>Released</td>\n",
       "      <td>Every Body Has a Secret.</td>\n",
       "      <td>The Damned</td>\n",
       "      <td>False</td>\n",
       "      <td>5.0</td>\n",
       "      <td>123.0</td>\n",
       "      <td>2013.0</td>\n",
       "      <td>The Damned</td>\n",
       "      <td>(PeterFacinelli RichardD'Ovidio Pete...</td>\n",
       "      <td>(PeterFacinelli RichardD'Ovidio Pete...</td>\n",
       "      <td>(PeterFacinelli RichardD'Ovidio Pete...</td>\n",
       "      <td>(PeterFacinelli RichardD'Ovidio Pete...</td>\n",
       "      <td>(PeterFacinelli RichardD'Ovidio Pete...</td>\n",
       "    </tr>\n",
       "    <tr>\n",
       "      <td>68145</td>\n",
       "      <td>/justindecloux/</td>\n",
       "      <td>Deathwatch</td>\n",
       "      <td>2002</td>\n",
       "      <td>It's all right. Looks great. Fine pe...</td>\n",
       "      <td>6</td>\n",
       "      <td>14 Oct, 2018</td>\n",
       "      <td>0</td>\n",
       "      <td>0</td>\n",
       "      <td>tt0286306</td>\n",
       "      <td>movie</td>\n",
       "      <td>Deathwatch</td>\n",
       "      <td>Deathwatch</td>\n",
       "      <td>0.0</td>\n",
       "      <td>2002.0</td>\n",
       "      <td>\\N</td>\n",
       "      <td>94</td>\n",
       "      <td>Drama,Horror,Thriller</td>\n",
       "      <td>False</td>\n",
       "      <td>/8gHzDs3l0RVBhhgOMrJPXmjcgQ0.jpg</td>\n",
       "      <td>NaN</td>\n",
       "      <td>0.0</td>\n",
       "      <td>[{'id': 18, 'name': 'Drama'}, {'id':...</td>\n",
       "      <td>NaN</td>\n",
       "      <td>12576.0</td>\n",
       "      <td>tt0286306</td>\n",
       "      <td>en</td>\n",
       "      <td>Deathwatch</td>\n",
       "      <td>In the brutal trench fighting of the...</td>\n",
       "      <td>6.164</td>\n",
       "      <td>/58zjT8SeELvGzSMNR9MguJZVkFw.jpg</td>\n",
       "      <td>[{'id': 45443, 'logo_path': None, 'n...</td>\n",
       "      <td>[{'iso_3166_1': 'DE', 'name': 'Germa...</td>\n",
       "      <td>2002-10-06</td>\n",
       "      <td>2270658.0</td>\n",
       "      <td>94.0</td>\n",
       "      <td>[{'iso_639_1': 'de', 'name': 'Deutsc...</td>\n",
       "      <td>Released</td>\n",
       "      <td>Deliver them from evil.</td>\n",
       "      <td>Deathwatch</td>\n",
       "      <td>False</td>\n",
       "      <td>5.9</td>\n",
       "      <td>92.0</td>\n",
       "      <td>2002.0</td>\n",
       "      <td>Deathwatch</td>\n",
       "      <td>(JamieBell RúaidhríConroy CurtCress ...</td>\n",
       "      <td>(JamieBell RúaidhríConroy CurtCress ...</td>\n",
       "      <td>(JamieBell RúaidhríConroy CurtCress ...</td>\n",
       "      <td>(JamieBell RúaidhríConroy CurtCress ...</td>\n",
       "      <td>(JamieBell RúaidhríConroy CurtCress ...</td>\n",
       "    </tr>\n",
       "    <tr>\n",
       "      <td>68154</td>\n",
       "      <td>/justindecloux/</td>\n",
       "      <td>Mega Scorpions</td>\n",
       "      <td>2003</td>\n",
       "      <td>Lots of scorpions. Lots of murdering...</td>\n",
       "      <td>6</td>\n",
       "      <td>08 Oct, 2018</td>\n",
       "      <td>0</td>\n",
       "      <td>1</td>\n",
       "      <td>tt0366347</td>\n",
       "      <td>movie</td>\n",
       "      <td>Mega Scorpions</td>\n",
       "      <td>Deadly Stingers</td>\n",
       "      <td>0.0</td>\n",
       "      <td>2003.0</td>\n",
       "      <td>\\N</td>\n",
       "      <td>73</td>\n",
       "      <td>Comedy,Horror,Sci-Fi</td>\n",
       "      <td>False</td>\n",
       "      <td>NaN</td>\n",
       "      <td>NaN</td>\n",
       "      <td>150000.0</td>\n",
       "      <td>[{'id': 878, 'name': 'Science Fictio...</td>\n",
       "      <td>NaN</td>\n",
       "      <td>109563.0</td>\n",
       "      <td>tt0366347</td>\n",
       "      <td>en</td>\n",
       "      <td>Mega Scorpions</td>\n",
       "      <td>Residents of a half-way house are bo...</td>\n",
       "      <td>1.051</td>\n",
       "      <td>/xV6mQX3Ep3tRZC6BxFFmQgkDaA8.jpg</td>\n",
       "      <td>[{'id': 15352, 'logo_path': None, 'n...</td>\n",
       "      <td>[]</td>\n",
       "      <td>2003-03-28</td>\n",
       "      <td>0.0</td>\n",
       "      <td>73.0</td>\n",
       "      <td>[{'iso_639_1': 'en', 'name': 'Englis...</td>\n",
       "      <td>Released</td>\n",
       "      <td>We're screwed!</td>\n",
       "      <td>Mega Scorpions</td>\n",
       "      <td>False</td>\n",
       "      <td>3.8</td>\n",
       "      <td>3.0</td>\n",
       "      <td>2003.0</td>\n",
       "      <td>Mega Scorpions</td>\n",
       "      <td>(C.CourtneyJoyner J.R.Bookwalter Mac...</td>\n",
       "      <td>(C.CourtneyJoyner J.R.Bookwalter Mac...</td>\n",
       "      <td>(C.CourtneyJoyner J.R.Bookwalter Mac...</td>\n",
       "      <td>(C.CourtneyJoyner J.R.Bookwalter Mac...</td>\n",
       "      <td>(C.CourtneyJoyner J.R.Bookwalter Mac...</td>\n",
       "    </tr>\n",
       "  </tbody>\n",
       "</table>\n",
       "</div>"
      ],
      "text/plain": [
       "             user_name                  movie_name  release_year  \\\n",
       "68140  /justindecloux/  Night of the Howling Beast          1975   \n",
       "68141  /justindecloux/                Ninja Zombie          1992   \n",
       "68144  /justindecloux/                  The Damned          2013   \n",
       "68145  /justindecloux/                  Deathwatch          2002   \n",
       "68154  /justindecloux/              Mega Scorpions          2003   \n",
       "\n",
       "                                   user_review  user_rating   review_date  \\\n",
       "68140  Paul Naschy always looks good as a w...            5  15 Oct, 2018   \n",
       "68141  More funny and competent then I expe...            6  15 Oct, 2018   \n",
       "68144  I like that it turns into the seriou...            4  13 Oct, 2018   \n",
       "68145  It's all right. Looks great. Fine pe...            6  14 Oct, 2018   \n",
       "68154  Lots of scorpions. Lots of murdering...            6  08 Oct, 2018   \n",
       "\n",
       "       rewatched  review_likes     tconst titleType  \\\n",
       "68140          0             2  tt0073338     movie   \n",
       "68141          0             5  tt8184986     movie   \n",
       "68144          0             1  tt2387408     movie   \n",
       "68145          0             0  tt0286306     movie   \n",
       "68154          0             1  tt0366347     movie   \n",
       "\n",
       "                     primaryTitle              originalTitle  isAdult  \\\n",
       "68140  Night of the Howling Beast  La maldición de la bestia      0.0   \n",
       "68141                Ninja Zombie               Ninja Zombie      0.0   \n",
       "68144                  The Damned               Gallows Hill      0.0   \n",
       "68145                  Deathwatch                 Deathwatch      0.0   \n",
       "68154              Mega Scorpions            Deadly Stingers      0.0   \n",
       "\n",
       "       startYear endYear runtimeMinutes              genres_orig  adult  \\\n",
       "68140     1975.0      \\N             94         Adventure,Horror  False   \n",
       "68141     1992.0      \\N             87                   Action  False   \n",
       "68144     2013.0      \\N             87  Horror,Mystery,Thriller  False   \n",
       "68145     2002.0      \\N             94    Drama,Horror,Thriller  False   \n",
       "68154     2003.0      \\N             73     Comedy,Horror,Sci-Fi  False   \n",
       "\n",
       "                          backdrop_path belongs_to_collection     budget  \\\n",
       "68140  /4W9rULtHTBVhKqx4JkkUqaKjsgM.jpg                   NaN        0.0   \n",
       "68141  /bJkrxGHjXtxxIl6k449iLtlNRsM.jpg                   NaN        0.0   \n",
       "68144  /mUjLt8b7dKbLHiaVBpSp7AUJXfn.jpg                   NaN  3000000.0   \n",
       "68145  /8gHzDs3l0RVBhhgOMrJPXmjcgQ0.jpg                   NaN        0.0   \n",
       "68154                               NaN                   NaN   150000.0   \n",
       "\n",
       "                                   genres_tmdb  \\\n",
       "68140  [{'id': 12, 'name': 'Adventure'}, {'...   \n",
       "68141  [{'id': 27, 'name': 'Horror'}, {'id'...   \n",
       "68144  [{'id': 53, 'name': 'Thriller'}, {'i...   \n",
       "68145  [{'id': 18, 'name': 'Drama'}, {'id':...   \n",
       "68154  [{'id': 878, 'name': 'Science Fictio...   \n",
       "\n",
       "                                      homepage        id    imdb_id  \\\n",
       "68140                                      NaN   54112.0  tt0073338   \n",
       "68141  https://www.facebook.com/ninjazombie...  323371.0  tt8184986   \n",
       "68144                                      NaN  258086.0  tt2387408   \n",
       "68145                                      NaN   12576.0  tt0286306   \n",
       "68154                                      NaN  109563.0  tt0366347   \n",
       "\n",
       "      original_language             original_title  \\\n",
       "68140                en  La maldición de la bestia   \n",
       "68141                en               Ninja Zombie   \n",
       "68144                en                 The Damned   \n",
       "68145                en                 Deathwatch   \n",
       "68154                en             Mega Scorpions   \n",
       "\n",
       "                                      overview  popularity  \\\n",
       "68140  Waldemar, the renowned adventurer, j...       3.462   \n",
       "68141  Assistant professor Orlan Sands is r...       1.434   \n",
       "68144  After suffering the recent loss of h...       7.665   \n",
       "68145  In the brutal trench fighting of the...       6.164   \n",
       "68154  Residents of a half-way house are bo...       1.051   \n",
       "\n",
       "                            poster_path  \\\n",
       "68140  /z1u43lRSv8EkPNjlhnnTlE6GAch.jpg   \n",
       "68141  /4Owj2GbP1Fk83AF51HijtjlZ5px.jpg   \n",
       "68144  /r7rp9wxy8nkCUwro6A792NB8Hb2.jpg   \n",
       "68145  /58zjT8SeELvGzSMNR9MguJZVkFw.jpg   \n",
       "68154  /xV6mQX3Ep3tRZC6BxFFmQgkDaA8.jpg   \n",
       "\n",
       "                          production_companies  \\\n",
       "68140  [{'id': 4948, 'logo_path': None, 'na...   \n",
       "68141  [{'id': 45765, 'logo_path': None, 'n...   \n",
       "68144  [{'id': 13921, 'logo_path': None, 'n...   \n",
       "68145  [{'id': 45443, 'logo_path': None, 'n...   \n",
       "68154  [{'id': 15352, 'logo_path': None, 'n...   \n",
       "\n",
       "                          production_countries release_date    revenue  \\\n",
       "68140  [{'iso_3166_1': 'ES', 'name': 'Spain'}]   1975-01-01        0.0   \n",
       "68141  [{'iso_3166_1': 'US', 'name': 'Unite...   1992-02-21        0.0   \n",
       "68144  [{'iso_3166_1': 'US', 'name': 'Unite...   2013-10-17  5758519.0   \n",
       "68145  [{'iso_3166_1': 'DE', 'name': 'Germa...   2002-10-06  2270658.0   \n",
       "68154                                       []   2003-03-28        0.0   \n",
       "\n",
       "       runtime                         spoken_languages    status  \\\n",
       "68140     94.0  [{'iso_639_1': 'es', 'name': 'Españo...  Released   \n",
       "68141     85.0  [{'iso_639_1': 'en', 'name': 'Englis...  Released   \n",
       "68144     87.0  [{'iso_639_1': 'en', 'name': 'Englis...  Released   \n",
       "68145     94.0  [{'iso_639_1': 'de', 'name': 'Deutsc...  Released   \n",
       "68154     73.0  [{'iso_639_1': 'en', 'name': 'Englis...  Released   \n",
       "\n",
       "                                       tagline                       title  \\\n",
       "68140  Two bloodthirsty beasts in deadly co...  Night of the Howling Beast   \n",
       "68141  Guts. Gore. Blood- Babes. All in a d...                Ninja Zombie   \n",
       "68144                 Every Body Has a Secret.                  The Damned   \n",
       "68145                  Deliver them from evil.                  Deathwatch   \n",
       "68154                           We're screwed!              Mega Scorpions   \n",
       "\n",
       "       video  vote_average  vote_count    year              title_inferred  \\\n",
       "68140  False           5.2         5.0  1975.0  Night of the Howling Beast   \n",
       "68141  False           0.0         0.0  1992.0                Ninja Zombie   \n",
       "68144  False           5.0       123.0  2013.0                  The Damned   \n",
       "68145  False           5.9        92.0  2002.0                  Deathwatch   \n",
       "68154  False           3.8         3.0  2003.0              Mega Scorpions   \n",
       "\n",
       "                                         names  \\\n",
       "68140  (CamEspaña CarmenFábregas MiguelIgle...   \n",
       "68141  (PeterBiagi RonForsythe DonaldRasmus...   \n",
       "68144  (PeterFacinelli RichardD'Ovidio Pete...   \n",
       "68145  (JamieBell RúaidhríConroy CurtCress ...   \n",
       "68154  (C.CourtneyJoyner J.R.Bookwalter Mac...   \n",
       "\n",
       "                                   birth_years  \\\n",
       "68140  (CamEspaña CarmenFábregas MiguelIgle...   \n",
       "68141  (PeterBiagi RonForsythe DonaldRasmus...   \n",
       "68144  (PeterFacinelli RichardD'Ovidio Pete...   \n",
       "68145  (JamieBell RúaidhríConroy CurtCress ...   \n",
       "68154  (C.CourtneyJoyner J.R.Bookwalter Mac...   \n",
       "\n",
       "                                   death_years  \\\n",
       "68140  (CamEspaña CarmenFábregas MiguelIgle...   \n",
       "68141  (PeterBiagi RonForsythe DonaldRasmus...   \n",
       "68144  (PeterFacinelli RichardD'Ovidio Pete...   \n",
       "68145  (JamieBell RúaidhríConroy CurtCress ...   \n",
       "68154  (C.CourtneyJoyner J.R.Bookwalter Mac...   \n",
       "\n",
       "                                   professions  \\\n",
       "68140  (CamEspaña CarmenFábregas MiguelIgle...   \n",
       "68141  (PeterBiagi RonForsythe DonaldRasmus...   \n",
       "68144  (PeterFacinelli RichardD'Ovidio Pete...   \n",
       "68145  (JamieBell RúaidhríConroy CurtCress ...   \n",
       "68154  (C.CourtneyJoyner J.R.Bookwalter Mac...   \n",
       "\n",
       "                                     known_for  \n",
       "68140  (CamEspaña CarmenFábregas MiguelIgle...  \n",
       "68141  (PeterBiagi RonForsythe DonaldRasmus...  \n",
       "68144  (PeterFacinelli RichardD'Ovidio Pete...  \n",
       "68145  (JamieBell RúaidhríConroy CurtCress ...  \n",
       "68154  (C.CourtneyJoyner J.R.Bookwalter Mac...  "
      ]
     },
     "execution_count": 79,
     "metadata": {},
     "output_type": "execute_result"
    }
   ],
   "source": [
    "df_cont.loc[logical].head()"
   ]
  },
  {
   "cell_type": "code",
   "execution_count": 72,
   "metadata": {},
   "outputs": [],
   "source": [
    "df_v3 = pd.merge(df_cont, title_ratings,\n",
    "                 how='left', \n",
    "                 left_on=['tconst'], \n",
    "                 right_on = ['tconst'])\n"
   ]
  },
  {
   "cell_type": "code",
   "execution_count": null,
   "metadata": {},
   "outputs": [],
   "source": [
    "# Correcting the mistake which was assigning all data to all new columns names, birth_years and so on)\n",
    "df_v3.loc[logical,\"names\"] = df_v3.loc[logical,\"names\"].parallel_apply(lambda x: x[0])"
   ]
  },
  {
   "cell_type": "code",
   "execution_count": 113,
   "metadata": {},
   "outputs": [
    {
     "data": {
      "text/html": [
       "<div>\n",
       "<style scoped>\n",
       "    .dataframe tbody tr th:only-of-type {\n",
       "        vertical-align: middle;\n",
       "    }\n",
       "\n",
       "    .dataframe tbody tr th {\n",
       "        vertical-align: top;\n",
       "    }\n",
       "\n",
       "    .dataframe thead th {\n",
       "        text-align: right;\n",
       "    }\n",
       "</style>\n",
       "<table border=\"1\" class=\"dataframe\">\n",
       "  <thead>\n",
       "    <tr style=\"text-align: right;\">\n",
       "      <th></th>\n",
       "      <th>user_name</th>\n",
       "      <th>movie_name</th>\n",
       "      <th>release_year</th>\n",
       "      <th>user_review</th>\n",
       "      <th>user_rating</th>\n",
       "      <th>review_date</th>\n",
       "      <th>rewatched</th>\n",
       "      <th>review_likes</th>\n",
       "      <th>tconst</th>\n",
       "      <th>titleType</th>\n",
       "      <th>primaryTitle</th>\n",
       "      <th>originalTitle</th>\n",
       "      <th>isAdult</th>\n",
       "      <th>startYear</th>\n",
       "      <th>endYear</th>\n",
       "      <th>runtimeMinutes</th>\n",
       "      <th>genres_orig</th>\n",
       "      <th>adult</th>\n",
       "      <th>backdrop_path</th>\n",
       "      <th>belongs_to_collection</th>\n",
       "      <th>budget</th>\n",
       "      <th>genres_tmdb</th>\n",
       "      <th>homepage</th>\n",
       "      <th>id</th>\n",
       "      <th>imdb_id</th>\n",
       "      <th>...</th>\n",
       "      <th>original_title</th>\n",
       "      <th>overview</th>\n",
       "      <th>popularity</th>\n",
       "      <th>poster_path</th>\n",
       "      <th>production_companies</th>\n",
       "      <th>production_countries</th>\n",
       "      <th>release_date</th>\n",
       "      <th>revenue</th>\n",
       "      <th>runtime</th>\n",
       "      <th>spoken_languages</th>\n",
       "      <th>status</th>\n",
       "      <th>tagline</th>\n",
       "      <th>title</th>\n",
       "      <th>video</th>\n",
       "      <th>vote_average</th>\n",
       "      <th>vote_count</th>\n",
       "      <th>year</th>\n",
       "      <th>title_inferred</th>\n",
       "      <th>names</th>\n",
       "      <th>birth_years</th>\n",
       "      <th>death_years</th>\n",
       "      <th>professions</th>\n",
       "      <th>known_for</th>\n",
       "      <th>averageRating</th>\n",
       "      <th>numVotes</th>\n",
       "    </tr>\n",
       "  </thead>\n",
       "  <tbody>\n",
       "    <tr>\n",
       "      <td>68140</td>\n",
       "      <td>/justindecloux/</td>\n",
       "      <td>Night of the Howling Beast</td>\n",
       "      <td>1975</td>\n",
       "      <td>Paul Naschy always looks good as a w...</td>\n",
       "      <td>5</td>\n",
       "      <td>15 Oct, 2018</td>\n",
       "      <td>0</td>\n",
       "      <td>2</td>\n",
       "      <td>tt0073338</td>\n",
       "      <td>movie</td>\n",
       "      <td>Night of the Howling Beast</td>\n",
       "      <td>La maldición de la bestia</td>\n",
       "      <td>0.0</td>\n",
       "      <td>1975.0</td>\n",
       "      <td>\\N</td>\n",
       "      <td>94</td>\n",
       "      <td>Adventure,Horror</td>\n",
       "      <td>False</td>\n",
       "      <td>/4W9rULtHTBVhKqx4JkkUqaKjsgM.jpg</td>\n",
       "      <td>NaN</td>\n",
       "      <td>0.0</td>\n",
       "      <td>[{'id': 12, 'name': 'Adventure'}, {'...</td>\n",
       "      <td>NaN</td>\n",
       "      <td>54112.0</td>\n",
       "      <td>tt0073338</td>\n",
       "      <td>...</td>\n",
       "      <td>La maldición de la bestia</td>\n",
       "      <td>Waldemar, the renowned adventurer, j...</td>\n",
       "      <td>3.462</td>\n",
       "      <td>/z1u43lRSv8EkPNjlhnnTlE6GAch.jpg</td>\n",
       "      <td>[{'id': 4948, 'logo_path': None, 'na...</td>\n",
       "      <td>[{'iso_3166_1': 'ES', 'name': 'Spain'}]</td>\n",
       "      <td>1975-01-01</td>\n",
       "      <td>0.0</td>\n",
       "      <td>94.0</td>\n",
       "      <td>[{'iso_639_1': 'es', 'name': 'Españo...</td>\n",
       "      <td>Released</td>\n",
       "      <td>Two bloodthirsty beasts in deadly co...</td>\n",
       "      <td>Night of the Howling Beast</td>\n",
       "      <td>False</td>\n",
       "      <td>5.2</td>\n",
       "      <td>5.0</td>\n",
       "      <td>1975.0</td>\n",
       "      <td>Night of the Howling Beast</td>\n",
       "      <td>CamEspaña CarmenFábregas MiguelIgles...</td>\n",
       "      <td>(CamEspaña CarmenFábregas MiguelIgle...</td>\n",
       "      <td>(CamEspaña CarmenFábregas MiguelIgle...</td>\n",
       "      <td>(CamEspaña CarmenFábregas MiguelIgle...</td>\n",
       "      <td>(CamEspaña CarmenFábregas MiguelIgle...</td>\n",
       "      <td>5.3</td>\n",
       "      <td>538.0</td>\n",
       "    </tr>\n",
       "    <tr>\n",
       "      <td>68141</td>\n",
       "      <td>/justindecloux/</td>\n",
       "      <td>Ninja Zombie</td>\n",
       "      <td>1992</td>\n",
       "      <td>More funny and competent then I expe...</td>\n",
       "      <td>6</td>\n",
       "      <td>15 Oct, 2018</td>\n",
       "      <td>0</td>\n",
       "      <td>5</td>\n",
       "      <td>tt8184986</td>\n",
       "      <td>movie</td>\n",
       "      <td>Ninja Zombie</td>\n",
       "      <td>Ninja Zombie</td>\n",
       "      <td>0.0</td>\n",
       "      <td>1992.0</td>\n",
       "      <td>\\N</td>\n",
       "      <td>87</td>\n",
       "      <td>Action</td>\n",
       "      <td>False</td>\n",
       "      <td>/bJkrxGHjXtxxIl6k449iLtlNRsM.jpg</td>\n",
       "      <td>NaN</td>\n",
       "      <td>0.0</td>\n",
       "      <td>[{'id': 27, 'name': 'Horror'}, {'id'...</td>\n",
       "      <td>https://www.facebook.com/ninjazombie...</td>\n",
       "      <td>323371.0</td>\n",
       "      <td>tt8184986</td>\n",
       "      <td>...</td>\n",
       "      <td>Ninja Zombie</td>\n",
       "      <td>Assistant professor Orlan Sands is r...</td>\n",
       "      <td>1.434</td>\n",
       "      <td>/4Owj2GbP1Fk83AF51HijtjlZ5px.jpg</td>\n",
       "      <td>[{'id': 45765, 'logo_path': None, 'n...</td>\n",
       "      <td>[{'iso_3166_1': 'US', 'name': 'Unite...</td>\n",
       "      <td>1992-02-21</td>\n",
       "      <td>0.0</td>\n",
       "      <td>85.0</td>\n",
       "      <td>[{'iso_639_1': 'en', 'name': 'Englis...</td>\n",
       "      <td>Released</td>\n",
       "      <td>Guts. Gore. Blood- Babes. All in a d...</td>\n",
       "      <td>Ninja Zombie</td>\n",
       "      <td>False</td>\n",
       "      <td>0.0</td>\n",
       "      <td>0.0</td>\n",
       "      <td>1992.0</td>\n",
       "      <td>Ninja Zombie</td>\n",
       "      <td>PeterBiagi RonForsythe DonaldRasmuss...</td>\n",
       "      <td>(PeterBiagi RonForsythe DonaldRasmus...</td>\n",
       "      <td>(PeterBiagi RonForsythe DonaldRasmus...</td>\n",
       "      <td>(PeterBiagi RonForsythe DonaldRasmus...</td>\n",
       "      <td>(PeterBiagi RonForsythe DonaldRasmus...</td>\n",
       "      <td>5.8</td>\n",
       "      <td>38.0</td>\n",
       "    </tr>\n",
       "    <tr>\n",
       "      <td>68144</td>\n",
       "      <td>/justindecloux/</td>\n",
       "      <td>The Damned</td>\n",
       "      <td>2013</td>\n",
       "      <td>I like that it turns into the seriou...</td>\n",
       "      <td>4</td>\n",
       "      <td>13 Oct, 2018</td>\n",
       "      <td>0</td>\n",
       "      <td>1</td>\n",
       "      <td>tt2387408</td>\n",
       "      <td>movie</td>\n",
       "      <td>The Damned</td>\n",
       "      <td>Gallows Hill</td>\n",
       "      <td>0.0</td>\n",
       "      <td>2013.0</td>\n",
       "      <td>\\N</td>\n",
       "      <td>87</td>\n",
       "      <td>Horror,Mystery,Thriller</td>\n",
       "      <td>False</td>\n",
       "      <td>/mUjLt8b7dKbLHiaVBpSp7AUJXfn.jpg</td>\n",
       "      <td>NaN</td>\n",
       "      <td>3000000.0</td>\n",
       "      <td>[{'id': 53, 'name': 'Thriller'}, {'i...</td>\n",
       "      <td>NaN</td>\n",
       "      <td>258086.0</td>\n",
       "      <td>tt2387408</td>\n",
       "      <td>...</td>\n",
       "      <td>The Damned</td>\n",
       "      <td>After suffering the recent loss of h...</td>\n",
       "      <td>7.665</td>\n",
       "      <td>/r7rp9wxy8nkCUwro6A792NB8Hb2.jpg</td>\n",
       "      <td>[{'id': 13921, 'logo_path': None, 'n...</td>\n",
       "      <td>[{'iso_3166_1': 'US', 'name': 'Unite...</td>\n",
       "      <td>2013-10-17</td>\n",
       "      <td>5758519.0</td>\n",
       "      <td>87.0</td>\n",
       "      <td>[{'iso_639_1': 'en', 'name': 'Englis...</td>\n",
       "      <td>Released</td>\n",
       "      <td>Every Body Has a Secret.</td>\n",
       "      <td>The Damned</td>\n",
       "      <td>False</td>\n",
       "      <td>5.0</td>\n",
       "      <td>123.0</td>\n",
       "      <td>2013.0</td>\n",
       "      <td>The Damned</td>\n",
       "      <td>PeterFacinelli RichardD'Ovidio Peter...</td>\n",
       "      <td>(PeterFacinelli RichardD'Ovidio Pete...</td>\n",
       "      <td>(PeterFacinelli RichardD'Ovidio Pete...</td>\n",
       "      <td>(PeterFacinelli RichardD'Ovidio Pete...</td>\n",
       "      <td>(PeterFacinelli RichardD'Ovidio Pete...</td>\n",
       "      <td>5.2</td>\n",
       "      <td>5698.0</td>\n",
       "    </tr>\n",
       "    <tr>\n",
       "      <td>68145</td>\n",
       "      <td>/justindecloux/</td>\n",
       "      <td>Deathwatch</td>\n",
       "      <td>2002</td>\n",
       "      <td>It's all right. Looks great. Fine pe...</td>\n",
       "      <td>6</td>\n",
       "      <td>14 Oct, 2018</td>\n",
       "      <td>0</td>\n",
       "      <td>0</td>\n",
       "      <td>tt0286306</td>\n",
       "      <td>movie</td>\n",
       "      <td>Deathwatch</td>\n",
       "      <td>Deathwatch</td>\n",
       "      <td>0.0</td>\n",
       "      <td>2002.0</td>\n",
       "      <td>\\N</td>\n",
       "      <td>94</td>\n",
       "      <td>Drama,Horror,Thriller</td>\n",
       "      <td>False</td>\n",
       "      <td>/8gHzDs3l0RVBhhgOMrJPXmjcgQ0.jpg</td>\n",
       "      <td>NaN</td>\n",
       "      <td>0.0</td>\n",
       "      <td>[{'id': 18, 'name': 'Drama'}, {'id':...</td>\n",
       "      <td>NaN</td>\n",
       "      <td>12576.0</td>\n",
       "      <td>tt0286306</td>\n",
       "      <td>...</td>\n",
       "      <td>Deathwatch</td>\n",
       "      <td>In the brutal trench fighting of the...</td>\n",
       "      <td>6.164</td>\n",
       "      <td>/58zjT8SeELvGzSMNR9MguJZVkFw.jpg</td>\n",
       "      <td>[{'id': 45443, 'logo_path': None, 'n...</td>\n",
       "      <td>[{'iso_3166_1': 'DE', 'name': 'Germa...</td>\n",
       "      <td>2002-10-06</td>\n",
       "      <td>2270658.0</td>\n",
       "      <td>94.0</td>\n",
       "      <td>[{'iso_639_1': 'de', 'name': 'Deutsc...</td>\n",
       "      <td>Released</td>\n",
       "      <td>Deliver them from evil.</td>\n",
       "      <td>Deathwatch</td>\n",
       "      <td>False</td>\n",
       "      <td>5.9</td>\n",
       "      <td>92.0</td>\n",
       "      <td>2002.0</td>\n",
       "      <td>Deathwatch</td>\n",
       "      <td>JamieBell RúaidhríConroy CurtCress M...</td>\n",
       "      <td>(JamieBell RúaidhríConroy CurtCress ...</td>\n",
       "      <td>(JamieBell RúaidhríConroy CurtCress ...</td>\n",
       "      <td>(JamieBell RúaidhríConroy CurtCress ...</td>\n",
       "      <td>(JamieBell RúaidhríConroy CurtCress ...</td>\n",
       "      <td>6.0</td>\n",
       "      <td>10187.0</td>\n",
       "    </tr>\n",
       "    <tr>\n",
       "      <td>68154</td>\n",
       "      <td>/justindecloux/</td>\n",
       "      <td>Mega Scorpions</td>\n",
       "      <td>2003</td>\n",
       "      <td>Lots of scorpions. Lots of murdering...</td>\n",
       "      <td>6</td>\n",
       "      <td>08 Oct, 2018</td>\n",
       "      <td>0</td>\n",
       "      <td>1</td>\n",
       "      <td>tt0366347</td>\n",
       "      <td>movie</td>\n",
       "      <td>Mega Scorpions</td>\n",
       "      <td>Deadly Stingers</td>\n",
       "      <td>0.0</td>\n",
       "      <td>2003.0</td>\n",
       "      <td>\\N</td>\n",
       "      <td>73</td>\n",
       "      <td>Comedy,Horror,Sci-Fi</td>\n",
       "      <td>False</td>\n",
       "      <td>NaN</td>\n",
       "      <td>NaN</td>\n",
       "      <td>150000.0</td>\n",
       "      <td>[{'id': 878, 'name': 'Science Fictio...</td>\n",
       "      <td>NaN</td>\n",
       "      <td>109563.0</td>\n",
       "      <td>tt0366347</td>\n",
       "      <td>...</td>\n",
       "      <td>Mega Scorpions</td>\n",
       "      <td>Residents of a half-way house are bo...</td>\n",
       "      <td>1.051</td>\n",
       "      <td>/xV6mQX3Ep3tRZC6BxFFmQgkDaA8.jpg</td>\n",
       "      <td>[{'id': 15352, 'logo_path': None, 'n...</td>\n",
       "      <td>[]</td>\n",
       "      <td>2003-03-28</td>\n",
       "      <td>0.0</td>\n",
       "      <td>73.0</td>\n",
       "      <td>[{'iso_639_1': 'en', 'name': 'Englis...</td>\n",
       "      <td>Released</td>\n",
       "      <td>We're screwed!</td>\n",
       "      <td>Mega Scorpions</td>\n",
       "      <td>False</td>\n",
       "      <td>3.8</td>\n",
       "      <td>3.0</td>\n",
       "      <td>2003.0</td>\n",
       "      <td>Mega Scorpions</td>\n",
       "      <td>C.CourtneyJoyner J.R.Bookwalter MacA...</td>\n",
       "      <td>(C.CourtneyJoyner J.R.Bookwalter Mac...</td>\n",
       "      <td>(C.CourtneyJoyner J.R.Bookwalter Mac...</td>\n",
       "      <td>(C.CourtneyJoyner J.R.Bookwalter Mac...</td>\n",
       "      <td>(C.CourtneyJoyner J.R.Bookwalter Mac...</td>\n",
       "      <td>4.4</td>\n",
       "      <td>157.0</td>\n",
       "    </tr>\n",
       "  </tbody>\n",
       "</table>\n",
       "<p>5 rows × 51 columns</p>\n",
       "</div>"
      ],
      "text/plain": [
       "             user_name                  movie_name  release_year  \\\n",
       "68140  /justindecloux/  Night of the Howling Beast          1975   \n",
       "68141  /justindecloux/                Ninja Zombie          1992   \n",
       "68144  /justindecloux/                  The Damned          2013   \n",
       "68145  /justindecloux/                  Deathwatch          2002   \n",
       "68154  /justindecloux/              Mega Scorpions          2003   \n",
       "\n",
       "                                   user_review  user_rating   review_date  \\\n",
       "68140  Paul Naschy always looks good as a w...            5  15 Oct, 2018   \n",
       "68141  More funny and competent then I expe...            6  15 Oct, 2018   \n",
       "68144  I like that it turns into the seriou...            4  13 Oct, 2018   \n",
       "68145  It's all right. Looks great. Fine pe...            6  14 Oct, 2018   \n",
       "68154  Lots of scorpions. Lots of murdering...            6  08 Oct, 2018   \n",
       "\n",
       "       rewatched  review_likes     tconst titleType  \\\n",
       "68140          0             2  tt0073338     movie   \n",
       "68141          0             5  tt8184986     movie   \n",
       "68144          0             1  tt2387408     movie   \n",
       "68145          0             0  tt0286306     movie   \n",
       "68154          0             1  tt0366347     movie   \n",
       "\n",
       "                     primaryTitle              originalTitle  isAdult  \\\n",
       "68140  Night of the Howling Beast  La maldición de la bestia      0.0   \n",
       "68141                Ninja Zombie               Ninja Zombie      0.0   \n",
       "68144                  The Damned               Gallows Hill      0.0   \n",
       "68145                  Deathwatch                 Deathwatch      0.0   \n",
       "68154              Mega Scorpions            Deadly Stingers      0.0   \n",
       "\n",
       "       startYear endYear runtimeMinutes              genres_orig  adult  \\\n",
       "68140     1975.0      \\N             94         Adventure,Horror  False   \n",
       "68141     1992.0      \\N             87                   Action  False   \n",
       "68144     2013.0      \\N             87  Horror,Mystery,Thriller  False   \n",
       "68145     2002.0      \\N             94    Drama,Horror,Thriller  False   \n",
       "68154     2003.0      \\N             73     Comedy,Horror,Sci-Fi  False   \n",
       "\n",
       "                          backdrop_path belongs_to_collection     budget  \\\n",
       "68140  /4W9rULtHTBVhKqx4JkkUqaKjsgM.jpg                   NaN        0.0   \n",
       "68141  /bJkrxGHjXtxxIl6k449iLtlNRsM.jpg                   NaN        0.0   \n",
       "68144  /mUjLt8b7dKbLHiaVBpSp7AUJXfn.jpg                   NaN  3000000.0   \n",
       "68145  /8gHzDs3l0RVBhhgOMrJPXmjcgQ0.jpg                   NaN        0.0   \n",
       "68154                               NaN                   NaN   150000.0   \n",
       "\n",
       "                                   genres_tmdb  \\\n",
       "68140  [{'id': 12, 'name': 'Adventure'}, {'...   \n",
       "68141  [{'id': 27, 'name': 'Horror'}, {'id'...   \n",
       "68144  [{'id': 53, 'name': 'Thriller'}, {'i...   \n",
       "68145  [{'id': 18, 'name': 'Drama'}, {'id':...   \n",
       "68154  [{'id': 878, 'name': 'Science Fictio...   \n",
       "\n",
       "                                      homepage        id    imdb_id  ...  \\\n",
       "68140                                      NaN   54112.0  tt0073338  ...   \n",
       "68141  https://www.facebook.com/ninjazombie...  323371.0  tt8184986  ...   \n",
       "68144                                      NaN  258086.0  tt2387408  ...   \n",
       "68145                                      NaN   12576.0  tt0286306  ...   \n",
       "68154                                      NaN  109563.0  tt0366347  ...   \n",
       "\n",
       "                  original_title                                 overview  \\\n",
       "68140  La maldición de la bestia  Waldemar, the renowned adventurer, j...   \n",
       "68141               Ninja Zombie  Assistant professor Orlan Sands is r...   \n",
       "68144                 The Damned  After suffering the recent loss of h...   \n",
       "68145                 Deathwatch  In the brutal trench fighting of the...   \n",
       "68154             Mega Scorpions  Residents of a half-way house are bo...   \n",
       "\n",
       "      popularity                       poster_path  \\\n",
       "68140      3.462  /z1u43lRSv8EkPNjlhnnTlE6GAch.jpg   \n",
       "68141      1.434  /4Owj2GbP1Fk83AF51HijtjlZ5px.jpg   \n",
       "68144      7.665  /r7rp9wxy8nkCUwro6A792NB8Hb2.jpg   \n",
       "68145      6.164  /58zjT8SeELvGzSMNR9MguJZVkFw.jpg   \n",
       "68154      1.051  /xV6mQX3Ep3tRZC6BxFFmQgkDaA8.jpg   \n",
       "\n",
       "                          production_companies  \\\n",
       "68140  [{'id': 4948, 'logo_path': None, 'na...   \n",
       "68141  [{'id': 45765, 'logo_path': None, 'n...   \n",
       "68144  [{'id': 13921, 'logo_path': None, 'n...   \n",
       "68145  [{'id': 45443, 'logo_path': None, 'n...   \n",
       "68154  [{'id': 15352, 'logo_path': None, 'n...   \n",
       "\n",
       "                          production_countries release_date    revenue  \\\n",
       "68140  [{'iso_3166_1': 'ES', 'name': 'Spain'}]   1975-01-01        0.0   \n",
       "68141  [{'iso_3166_1': 'US', 'name': 'Unite...   1992-02-21        0.0   \n",
       "68144  [{'iso_3166_1': 'US', 'name': 'Unite...   2013-10-17  5758519.0   \n",
       "68145  [{'iso_3166_1': 'DE', 'name': 'Germa...   2002-10-06  2270658.0   \n",
       "68154                                       []   2003-03-28        0.0   \n",
       "\n",
       "       runtime                         spoken_languages    status  \\\n",
       "68140     94.0  [{'iso_639_1': 'es', 'name': 'Españo...  Released   \n",
       "68141     85.0  [{'iso_639_1': 'en', 'name': 'Englis...  Released   \n",
       "68144     87.0  [{'iso_639_1': 'en', 'name': 'Englis...  Released   \n",
       "68145     94.0  [{'iso_639_1': 'de', 'name': 'Deutsc...  Released   \n",
       "68154     73.0  [{'iso_639_1': 'en', 'name': 'Englis...  Released   \n",
       "\n",
       "                                       tagline                       title  \\\n",
       "68140  Two bloodthirsty beasts in deadly co...  Night of the Howling Beast   \n",
       "68141  Guts. Gore. Blood- Babes. All in a d...                Ninja Zombie   \n",
       "68144                 Every Body Has a Secret.                  The Damned   \n",
       "68145                  Deliver them from evil.                  Deathwatch   \n",
       "68154                           We're screwed!              Mega Scorpions   \n",
       "\n",
       "       video vote_average  vote_count    year              title_inferred  \\\n",
       "68140  False          5.2         5.0  1975.0  Night of the Howling Beast   \n",
       "68141  False          0.0         0.0  1992.0                Ninja Zombie   \n",
       "68144  False          5.0       123.0  2013.0                  The Damned   \n",
       "68145  False          5.9        92.0  2002.0                  Deathwatch   \n",
       "68154  False          3.8         3.0  2003.0              Mega Scorpions   \n",
       "\n",
       "                                         names  \\\n",
       "68140  CamEspaña CarmenFábregas MiguelIgles...   \n",
       "68141  PeterBiagi RonForsythe DonaldRasmuss...   \n",
       "68144  PeterFacinelli RichardD'Ovidio Peter...   \n",
       "68145  JamieBell RúaidhríConroy CurtCress M...   \n",
       "68154  C.CourtneyJoyner J.R.Bookwalter MacA...   \n",
       "\n",
       "                                   birth_years  \\\n",
       "68140  (CamEspaña CarmenFábregas MiguelIgle...   \n",
       "68141  (PeterBiagi RonForsythe DonaldRasmus...   \n",
       "68144  (PeterFacinelli RichardD'Ovidio Pete...   \n",
       "68145  (JamieBell RúaidhríConroy CurtCress ...   \n",
       "68154  (C.CourtneyJoyner J.R.Bookwalter Mac...   \n",
       "\n",
       "                                   death_years  \\\n",
       "68140  (CamEspaña CarmenFábregas MiguelIgle...   \n",
       "68141  (PeterBiagi RonForsythe DonaldRasmus...   \n",
       "68144  (PeterFacinelli RichardD'Ovidio Pete...   \n",
       "68145  (JamieBell RúaidhríConroy CurtCress ...   \n",
       "68154  (C.CourtneyJoyner J.R.Bookwalter Mac...   \n",
       "\n",
       "                                   professions  \\\n",
       "68140  (CamEspaña CarmenFábregas MiguelIgle...   \n",
       "68141  (PeterBiagi RonForsythe DonaldRasmus...   \n",
       "68144  (PeterFacinelli RichardD'Ovidio Pete...   \n",
       "68145  (JamieBell RúaidhríConroy CurtCress ...   \n",
       "68154  (C.CourtneyJoyner J.R.Bookwalter Mac...   \n",
       "\n",
       "                                     known_for averageRating  numVotes  \n",
       "68140  (CamEspaña CarmenFábregas MiguelIgle...           5.3     538.0  \n",
       "68141  (PeterBiagi RonForsythe DonaldRasmus...           5.8      38.0  \n",
       "68144  (PeterFacinelli RichardD'Ovidio Pete...           5.2    5698.0  \n",
       "68145  (JamieBell RúaidhríConroy CurtCress ...           6.0   10187.0  \n",
       "68154  (C.CourtneyJoyner J.R.Bookwalter Mac...           4.4     157.0  \n",
       "\n",
       "[5 rows x 51 columns]"
      ]
     },
     "execution_count": 113,
     "metadata": {},
     "output_type": "execute_result"
    }
   ],
   "source": [
    "df_v3.loc[logical].head()"
   ]
  },
  {
   "cell_type": "code",
   "execution_count": 114,
   "metadata": {},
   "outputs": [
    {
     "data": {
      "application/vnd.jupyter.widget-view+json": {
       "model_id": "d23dfbab45194dfc93fb184b350bf340",
       "version_major": 2,
       "version_minor": 0
      },
      "text/plain": [
       "VBox(children=(HBox(children=(IntProgress(value=0, description='0.00%', max=2152), Label(value='0 / 2152'))), …"
      ]
     },
     "metadata": {},
     "output_type": "display_data"
    },
    {
     "data": {
      "application/vnd.jupyter.widget-view+json": {
       "model_id": "5ee68d98e7174901819e96c481028f1d",
       "version_major": 2,
       "version_minor": 0
      },
      "text/plain": [
       "VBox(children=(HBox(children=(IntProgress(value=0, description='0.00%', max=2152), Label(value='0 / 2152'))), …"
      ]
     },
     "metadata": {},
     "output_type": "display_data"
    },
    {
     "data": {
      "application/vnd.jupyter.widget-view+json": {
       "model_id": "1c966c1513fd4578b462c389d50f9b36",
       "version_major": 2,
       "version_minor": 0
      },
      "text/plain": [
       "VBox(children=(HBox(children=(IntProgress(value=0, description='0.00%', max=2152), Label(value='0 / 2152'))), …"
      ]
     },
     "metadata": {},
     "output_type": "display_data"
    },
    {
     "data": {
      "application/vnd.jupyter.widget-view+json": {
       "model_id": "c78a3d55d56946ada14b137efb8457ad",
       "version_major": 2,
       "version_minor": 0
      },
      "text/plain": [
       "VBox(children=(HBox(children=(IntProgress(value=0, description='0.00%', max=2152), Label(value='0 / 2152'))), …"
      ]
     },
     "metadata": {},
     "output_type": "display_data"
    }
   ],
   "source": [
    "# Doing the same for the rest of columns in a loop\n",
    "for i, col in enumerate(['birth_years','death_years','professions','known_for']):\n",
    "    df_v3.loc[logical,col] = df_v3.loc[logical,col].parallel_apply(lambda x: x[i+1])"
   ]
  },
  {
   "cell_type": "code",
   "execution_count": 136,
   "metadata": {},
   "outputs": [],
   "source": [
    "# Save as \"data_raw.csv\" file\n",
    "df_v3.to_csv(\"data_raw.csv\")"
   ]
  },
  {
   "cell_type": "markdown",
   "metadata": {},
   "source": [
    "## To Do ...\n",
    "\n",
    "#1 ELIMINATE DUPLICATES BY A SELECTION FUNCTION BY POPULARITY (MORE NON-NULL DATA, ETC.)\n",
    "#2 [DONE] GENERATE THE PEOPLE FEATURES FOR THE WHOLE DATASET USING MULTI-THREADING...\n",
    "#3 COMBINE SAME ENTITIES INTO JUST ONE COLUMNS (REMOVE JUNK)\n"
   ]
  },
  {
   "cell_type": "code",
   "execution_count": 157,
   "metadata": {},
   "outputs": [
    {
     "name": "stdout",
     "output_type": "stream",
     "text": [
      "Missing people data: 55531\n"
     ]
    }
   ],
   "source": [
    "print(f\"Missing people data: {df_v3.names.isnull().sum()}\")"
   ]
  },
  {
   "cell_type": "code",
   "execution_count": 158,
   "metadata": {},
   "outputs": [
    {
     "data": {
      "text/plain": [
       "(299390, 51)"
      ]
     },
     "execution_count": 158,
     "metadata": {},
     "output_type": "execute_result"
    }
   ],
   "source": [
    "df_v3.shape"
   ]
  },
  {
   "cell_type": "code",
   "execution_count": 160,
   "metadata": {},
   "outputs": [
    {
     "data": {
      "text/plain": [
       "(291298,)"
      ]
     },
     "execution_count": 160,
     "metadata": {},
     "output_type": "execute_result"
    }
   ],
   "source": [
    "df_v3[\"user_review\"].drop_duplicates().shape"
   ]
  },
  {
   "cell_type": "code",
   "execution_count": 161,
   "metadata": {},
   "outputs": [
    {
     "data": {
      "text/plain": [
       "8092"
      ]
     },
     "execution_count": 161,
     "metadata": {},
     "output_type": "execute_result"
    }
   ],
   "source": [
    "299390 - 291298"
   ]
  },
  {
   "cell_type": "code",
   "execution_count": null,
   "metadata": {},
   "outputs": [],
   "source": []
  }
 ],
 "metadata": {
  "kernelspec": {
   "display_name": "Python 3",
   "language": "python",
   "name": "python3"
  },
  "language_info": {
   "codemirror_mode": {
    "name": "ipython",
    "version": 3
   },
   "file_extension": ".py",
   "mimetype": "text/x-python",
   "name": "python",
   "nbconvert_exporter": "python",
   "pygments_lexer": "ipython3",
   "version": "3.7.4"
  }
 },
 "nbformat": 4,
 "nbformat_minor": 2
}
